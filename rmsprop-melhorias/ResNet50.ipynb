{
 "cells": [
  {
   "cell_type": "code",
   "execution_count": 1,
   "metadata": {
    "_cell_guid": "b1076dfc-b9ad-4769-8c92-a6c4dae69d19",
    "_uuid": "8f2839f25d086af736a60e9eeb907d3b93b6e0e5"
   },
   "outputs": [
    {
     "name": "stderr",
     "output_type": "stream",
     "text": [
      "Using TensorFlow backend.\n"
     ]
    }
   ],
   "source": [
    "from keras.datasets import mnist\n",
    "from keras.models import Sequential, Model\n",
    "from keras.layers import Dense, Dropout, Activation, Flatten, BatchNormalization, merge, Input, concatenate, add\n",
    "from keras.layers import Conv2D, MaxPooling2D,MaxPool2D, ZeroPadding2D, AveragePooling2D, GlobalAveragePooling2D, BatchNormalization\n",
    "from keras.utils import np_utils\n",
    "from keras.models import model_from_json\n",
    "from keras import backend as K\n",
    "from keras.preprocessing import image\n",
    "from keras.optimizers import SGD, RMSprop\n",
    "from keras.utils.data_utils import get_file\n",
    "import random\n",
    "from keras import regularizers\n",
    "from sklearn.metrics import classification_report, confusion_matrix\n",
    "from keras.applications import VGG16, ResNet50, VGG16\n",
    "import os\n",
    "import itertools\n",
    "import cv2\n",
    "from sklearn.metrics import log_loss, confusion_matrix\n",
    "import numpy as np\n",
    "import tensorflow as tf\n",
    "import matplotlib.pyplot as plt\n",
    "%matplotlib inline\n",
    "import os\n",
    "import warnings\n",
    "warnings.simplefilter(\"ignore\", UserWarning)"
   ]
  },
  {
   "cell_type": "code",
   "execution_count": 2,
   "metadata": {
    "_cell_guid": "79c7e3d0-c299-4dcb-8224-4455121ee9b0",
    "_uuid": "d629ff2d2480ee46fbb7e2d37f6b5fab8052498a"
   },
   "outputs": [
    {
     "name": "stdout",
     "output_type": "stream",
     "text": [
      "Found 11054 images belonging to 10 classes.\n",
      "Found 2757 images belonging to 10 classes.\n",
      "Found 456 images belonging to 10 classes.\n"
     ]
    }
   ],
   "source": [
    "from keras.preprocessing.image import ImageDataGenerator\n",
    "image_width = 75\n",
    "image_height = 75\n",
    "\n",
    "img_rows =  224\n",
    "img_cols =  224\n",
    "image_size = (image_width, image_height)\n",
    "\n",
    "data_datagen = ImageDataGenerator(rescale=1.0/255,  validation_split=0.20, featurewise_center=False, \n",
    "        samplewise_center=False, \n",
    "        featurewise_std_normalization=False, \n",
    "        samplewise_std_normalization=False,  \n",
    "        zca_whitening=False,  \n",
    "        rotation_range=10,  \n",
    "        zoom_range = 0.1,\n",
    "        width_shift_range=0.1, \n",
    "        height_shift_range=0.1,\n",
    "        horizontal_flip=True,  \n",
    "        vertical_flip=False)\n",
    "\n",
    "train_generator = data_datagen.flow_from_directory(\n",
    "        '../input/simpsons-dataset/simpsons_dataset/simpsons_dataset/',  # this is the target directory\n",
    "        target_size=image_size,  # all images will be resized to 224x224\n",
    "        batch_size=16,\n",
    "        class_mode='categorical',\n",
    "         subset='training', shuffle = True)\n",
    "\n",
    "validation_generator = data_datagen.flow_from_directory(\n",
    "        '../input/simpsons-dataset/simpsons_dataset/simpsons_dataset/',  # this is the target directory\n",
    "        target_size=image_size,  # all images will be resized to 224x224\n",
    "        batch_size=16,\n",
    "        class_mode='categorical',\n",
    "         subset='validation', shuffle = True)\n",
    "\n",
    "test_datagen = ImageDataGenerator(rescale=1.0/255)\n",
    "test_generator = test_datagen.flow_from_directory(\n",
    "       '../input/dataset-simpsons-test/kaggle_simpson_testset/',  # this is the target directory\n",
    "        target_size=image_size,  # all images will be resized to 224x224\n",
    "        batch_size=16,\n",
    "        class_mode='categorical',shuffle = False)"
   ]
  },
  {
   "cell_type": "code",
   "execution_count": 3,
   "metadata": {
    "_uuid": "20d65e2d1f386937353591f6b2e59510bb9f434c"
   },
   "outputs": [],
   "source": [
    "def create_model():\n",
    "    resnet50 = ResNet50(include_top=False, input_shape=(75, 75, 3))\n",
    "    \n",
    "    model = Sequential()\n",
    "    model.add(resnet50)\n",
    "    model.add(Flatten())\n",
    "    model.add(Dropout(0.5))\n",
    "    model.add(Dense(256, activation='relu',kernel_regularizer=regularizers.l1_l2(l1=0.001,l2=0.001)))\n",
    "    model.add(Dense(10, activation='softmax'))   \n",
    "    model.summary()\n",
    "    #sgd = SGD(lr=1e-3, decay=1e-6, momentum=0.9, nesterov=True)\n",
    "    rmsprop = RMSprop(lr=0.001, rho=0.9, epsilon=None, decay=0.0)\n",
    "    model.compile(loss='categorical_crossentropy', optimizer=rmsprop, metrics=['acc'])\n",
    "    return model"
   ]
  },
  {
   "cell_type": "code",
   "execution_count": 4,
   "metadata": {
    "_uuid": "a259e235660307cad3b92946da8d715e5a81d37a",
    "scrolled": true
   },
   "outputs": [
    {
     "name": "stdout",
     "output_type": "stream",
     "text": [
      "Downloading data from https://github.com/fchollet/deep-learning-models/releases/download/v0.2/resnet50_weights_tf_dim_ordering_tf_kernels_notop.h5\n",
      "94658560/94653016 [==============================] - 1s 0us/step\n",
      "_________________________________________________________________\n",
      "Layer (type)                 Output Shape              Param #   \n",
      "=================================================================\n",
      "resnet50 (Model)             (None, 3, 3, 2048)        23587712  \n",
      "_________________________________________________________________\n",
      "flatten_1 (Flatten)          (None, 18432)             0         \n",
      "_________________________________________________________________\n",
      "dropout_1 (Dropout)          (None, 18432)             0         \n",
      "_________________________________________________________________\n",
      "dense_1 (Dense)              (None, 256)               4718848   \n",
      "_________________________________________________________________\n",
      "dense_2 (Dense)              (None, 10)                2570      \n",
      "=================================================================\n",
      "Total params: 28,309,130\n",
      "Trainable params: 28,256,010\n",
      "Non-trainable params: 53,120\n",
      "_________________________________________________________________\n"
     ]
    }
   ],
   "source": [
    "model = create_model()"
   ]
  },
  {
   "cell_type": "code",
   "execution_count": 5,
   "metadata": {
    "_uuid": "4f6919c9f407196c675debab1737a5fbce49c031"
   },
   "outputs": [
    {
     "name": "stdout",
     "output_type": "stream",
     "text": [
      "Epoch 1/100\n",
      "690/690 [==============================] - 189s 274ms/step - loss: 6.8790 - acc: 0.2358 - val_loss: 14.4445 - val_acc: 0.0716\n",
      "Epoch 2/100\n",
      "690/690 [==============================] - 170s 246ms/step - loss: 4.7631 - acc: 0.3343 - val_loss: 5.3625 - val_acc: 0.3418\n",
      "Epoch 3/100\n",
      "690/690 [==============================] - 170s 246ms/step - loss: 4.0981 - acc: 0.5514 - val_loss: 4.3752 - val_acc: 0.5513\n",
      "Epoch 4/100\n",
      "690/690 [==============================] - 169s 246ms/step - loss: 3.7120 - acc: 0.6658 - val_loss: 3.6986 - val_acc: 0.6556\n",
      "Epoch 5/100\n",
      "690/690 [==============================] - 169s 245ms/step - loss: 3.4556 - acc: 0.7208 - val_loss: 4.7297 - val_acc: 0.5483\n",
      "Epoch 6/100\n",
      "690/690 [==============================] - 171s 247ms/step - loss: 3.3517 - acc: 0.7581 - val_loss: 4.4027 - val_acc: 0.6140\n",
      "Epoch 7/100\n",
      "690/690 [==============================] - 170s 246ms/step - loss: 3.2992 - acc: 0.7817 - val_loss: 5.4647 - val_acc: 0.5140\n",
      "Epoch 8/100\n",
      "690/690 [==============================] - 169s 245ms/step - loss: 3.2058 - acc: 0.8015 - val_loss: 3.6807 - val_acc: 0.7121\n",
      "Epoch 9/100\n",
      "690/690 [==============================] - 170s 246ms/step - loss: 3.1519 - acc: 0.8182 - val_loss: 4.1110 - val_acc: 0.6264\n",
      "Epoch 10/100\n",
      "690/690 [==============================] - 169s 246ms/step - loss: 3.0864 - acc: 0.8367 - val_loss: 4.1484 - val_acc: 0.6921\n",
      "Epoch 11/100\n",
      "690/690 [==============================] - 169s 245ms/step - loss: 3.0409 - acc: 0.8554 - val_loss: 3.4211 - val_acc: 0.7818\n",
      "Epoch 12/100\n",
      "690/690 [==============================] - 168s 244ms/step - loss: 2.9968 - acc: 0.8658 - val_loss: 3.1301 - val_acc: 0.8183\n",
      "Epoch 13/100\n",
      "690/690 [==============================] - 169s 245ms/step - loss: 2.9905 - acc: 0.8724 - val_loss: 3.7065 - val_acc: 0.7165\n",
      "Epoch 14/100\n",
      "690/690 [==============================] - 169s 244ms/step - loss: 2.9746 - acc: 0.8805 - val_loss: 3.3165 - val_acc: 0.7935\n",
      "Epoch 15/100\n",
      "690/690 [==============================] - 169s 245ms/step - loss: 2.9384 - acc: 0.8874 - val_loss: 5.6997 - val_acc: 0.6363\n",
      "Epoch 16/100\n",
      "690/690 [==============================] - 170s 246ms/step - loss: 2.9197 - acc: 0.8882 - val_loss: 4.4429 - val_acc: 0.6001\n",
      "Epoch 17/100\n",
      "690/690 [==============================] - 172s 249ms/step - loss: 2.8788 - acc: 0.8987 - val_loss: 3.4841 - val_acc: 0.7410\n",
      "Epoch 18/100\n",
      "690/690 [==============================] - 170s 246ms/step - loss: 2.9594 - acc: 0.8929 - val_loss: 4.2624 - val_acc: 0.7114\n",
      "Epoch 19/100\n",
      "690/690 [==============================] - 169s 245ms/step - loss: 2.8890 - acc: 0.9012 - val_loss: 3.3846 - val_acc: 0.7734\n",
      "Epoch 20/100\n",
      "690/690 [==============================] - 170s 247ms/step - loss: 2.8516 - acc: 0.9053 - val_loss: 3.2485 - val_acc: 0.8468\n",
      "Epoch 21/100\n",
      "690/690 [==============================] - 169s 245ms/step - loss: 2.8484 - acc: 0.9094 - val_loss: 3.0403 - val_acc: 0.8468\n",
      "Epoch 22/100\n",
      "690/690 [==============================] - 170s 246ms/step - loss: 2.8295 - acc: 0.9147 - val_loss: 3.7199 - val_acc: 0.7972\n",
      "Epoch 23/100\n",
      "690/690 [==============================] - 169s 245ms/step - loss: 2.8421 - acc: 0.9099 - val_loss: 3.4116 - val_acc: 0.7913\n",
      "Epoch 24/100\n",
      "690/690 [==============================] - 169s 246ms/step - loss: 2.7861 - acc: 0.9161 - val_loss: 3.9507 - val_acc: 0.7738\n",
      "Epoch 25/100\n",
      "690/690 [==============================] - 169s 245ms/step - loss: 2.8308 - acc: 0.9160 - val_loss: 4.7365 - val_acc: 0.6888\n",
      "Epoch 26/100\n",
      "690/690 [==============================] - 169s 245ms/step - loss: 2.7759 - acc: 0.9214 - val_loss: 3.1187 - val_acc: 0.8358\n",
      "Epoch 27/100\n",
      "690/690 [==============================] - 168s 244ms/step - loss: 2.8716 - acc: 0.9178 - val_loss: 2.9175 - val_acc: 0.8763\n",
      "Epoch 28/100\n",
      "690/690 [==============================] - 169s 245ms/step - loss: 2.7788 - acc: 0.9206 - val_loss: 3.4916 - val_acc: 0.7910\n",
      "Epoch 29/100\n",
      "690/690 [==============================] - 169s 245ms/step - loss: 2.8035 - acc: 0.9214 - val_loss: 3.0354 - val_acc: 0.8442\n",
      "Epoch 30/100\n",
      "690/690 [==============================] - 168s 243ms/step - loss: 2.7789 - acc: 0.9282 - val_loss: 3.8839 - val_acc: 0.7340\n",
      "Epoch 31/100\n",
      "690/690 [==============================] - 168s 243ms/step - loss: 2.7841 - acc: 0.9296 - val_loss: 2.9429 - val_acc: 0.8719\n",
      "Epoch 32/100\n",
      "690/690 [==============================] - 168s 243ms/step - loss: 2.7937 - acc: 0.9296 - val_loss: 4.0504 - val_acc: 0.8070\n",
      "Epoch 33/100\n",
      "690/690 [==============================] - 167s 243ms/step - loss: 2.7699 - acc: 0.9335 - val_loss: 3.0741 - val_acc: 0.8322\n",
      "Epoch 34/100\n",
      "690/690 [==============================] - 167s 242ms/step - loss: 2.8497 - acc: 0.9239 - val_loss: 4.1985 - val_acc: 0.7052\n",
      "Epoch 35/100\n",
      "690/690 [==============================] - 168s 243ms/step - loss: 2.7784 - acc: 0.9280 - val_loss: 3.4782 - val_acc: 0.8723\n",
      "Epoch 36/100\n",
      "690/690 [==============================] - 168s 243ms/step - loss: 2.7438 - acc: 0.9365 - val_loss: 3.0457 - val_acc: 0.8705\n",
      "Epoch 37/100\n",
      "690/690 [==============================] - 168s 244ms/step - loss: 2.7852 - acc: 0.9323 - val_loss: 4.1151 - val_acc: 0.6939\n",
      "Epoch 38/100\n",
      "690/690 [==============================] - 168s 244ms/step - loss: 2.7714 - acc: 0.9344 - val_loss: 3.1788 - val_acc: 0.8694\n",
      "Epoch 39/100\n",
      "690/690 [==============================] - 169s 245ms/step - loss: 2.7543 - acc: 0.9344 - val_loss: 4.7943 - val_acc: 0.7483\n",
      "Epoch 40/100\n",
      "690/690 [==============================] - 168s 243ms/step - loss: 2.7226 - acc: 0.9366 - val_loss: 3.2477 - val_acc: 0.8190\n",
      "Epoch 41/100\n",
      "690/690 [==============================] - 167s 243ms/step - loss: 2.7422 - acc: 0.9379 - val_loss: 3.7420 - val_acc: 0.8384\n",
      "Epoch 42/100\n",
      "690/690 [==============================] - 167s 242ms/step - loss: 2.7164 - acc: 0.9387 - val_loss: 2.8087 - val_acc: 0.8916\n",
      "Epoch 43/100\n",
      "690/690 [==============================] - 168s 243ms/step - loss: 2.7235 - acc: 0.9430 - val_loss: 3.2328 - val_acc: 0.8504\n",
      "Epoch 44/100\n",
      "690/690 [==============================] - 168s 244ms/step - loss: 2.7277 - acc: 0.9400 - val_loss: 3.0831 - val_acc: 0.8862\n",
      "Epoch 45/100\n",
      "690/690 [==============================] - 168s 244ms/step - loss: 2.7755 - acc: 0.9400 - val_loss: 3.2503 - val_acc: 0.8829\n",
      "Epoch 46/100\n",
      "690/690 [==============================] - 171s 248ms/step - loss: 2.7050 - acc: 0.9433 - val_loss: 3.3710 - val_acc: 0.8617\n",
      "Epoch 47/100\n",
      "690/690 [==============================] - 169s 244ms/step - loss: 2.7390 - acc: 0.9437 - val_loss: 3.1863 - val_acc: 0.8544\n",
      "Epoch 48/100\n",
      "690/690 [==============================] - 169s 245ms/step - loss: 2.7076 - acc: 0.9446 - val_loss: 2.9675 - val_acc: 0.8752\n",
      "Epoch 49/100\n",
      "690/690 [==============================] - 167s 242ms/step - loss: 2.7463 - acc: 0.9436 - val_loss: 4.0100 - val_acc: 0.7665\n",
      "Epoch 50/100\n",
      "690/690 [==============================] - 168s 243ms/step - loss: 2.8072 - acc: 0.9418 - val_loss: 3.8043 - val_acc: 0.8577\n",
      "Epoch 51/100\n",
      "690/690 [==============================] - 168s 243ms/step - loss: 2.6859 - acc: 0.9475 - val_loss: 3.0309 - val_acc: 0.8628\n",
      "Epoch 52/100\n",
      "690/690 [==============================] - 169s 245ms/step - loss: 2.8059 - acc: 0.9405 - val_loss: 2.9804 - val_acc: 0.8829\n",
      "Epoch 53/100\n",
      "690/690 [==============================] - 168s 244ms/step - loss: 2.7710 - acc: 0.9437 - val_loss: 3.1643 - val_acc: 0.8552\n",
      "Epoch 54/100\n",
      "690/690 [==============================] - 168s 244ms/step - loss: 2.7295 - acc: 0.9460 - val_loss: 2.9897 - val_acc: 0.8559\n",
      "Epoch 55/100\n",
      "690/690 [==============================] - 168s 244ms/step - loss: 2.7622 - acc: 0.9463 - val_loss: 2.9461 - val_acc: 0.8811\n",
      "Epoch 56/100\n",
      "690/690 [==============================] - 167s 242ms/step - loss: 2.7169 - acc: 0.9493 - val_loss: 4.4554 - val_acc: 0.7917\n",
      "Epoch 57/100\n",
      "690/690 [==============================] - 167s 242ms/step - loss: 2.7355 - acc: 0.9489 - val_loss: 3.0249 - val_acc: 0.8858\n",
      "Epoch 58/100\n",
      "690/690 [==============================] - 167s 242ms/step - loss: 2.7194 - acc: 0.9487 - val_loss: 2.8686 - val_acc: 0.9066\n",
      "Epoch 59/100\n",
      "690/690 [==============================] - 167s 242ms/step - loss: 2.6366 - acc: 0.9535 - val_loss: 3.2670 - val_acc: 0.8501\n",
      "Epoch 60/100\n",
      "690/690 [==============================] - 166s 240ms/step - loss: 2.7210 - acc: 0.9495 - val_loss: 3.0052 - val_acc: 0.8942\n",
      "Epoch 61/100\n",
      "690/690 [==============================] - 167s 242ms/step - loss: 2.6503 - acc: 0.9521 - val_loss: 3.8269 - val_acc: 0.8468\n",
      "Epoch 62/100\n",
      "690/690 [==============================] - 166s 241ms/step - loss: 2.7409 - acc: 0.9514 - val_loss: 3.0354 - val_acc: 0.8997\n",
      "Epoch 63/100\n",
      "690/690 [==============================] - 168s 243ms/step - loss: 2.6786 - acc: 0.9535 - val_loss: 3.0801 - val_acc: 0.8873\n",
      "Epoch 64/100\n",
      "690/690 [==============================] - 166s 241ms/step - loss: 2.7422 - acc: 0.9547 - val_loss: 2.9834 - val_acc: 0.8563\n",
      "Epoch 65/100\n",
      "690/690 [==============================] - 168s 244ms/step - loss: 2.7575 - acc: 0.9505 - val_loss: 3.0849 - val_acc: 0.8938\n",
      "Epoch 66/100\n",
      "690/690 [==============================] - 167s 242ms/step - loss: 2.7471 - acc: 0.9527 - val_loss: 3.3717 - val_acc: 0.8296\n",
      "Epoch 67/100\n",
      "690/690 [==============================] - 166s 241ms/step - loss: 2.7552 - acc: 0.9517 - val_loss: 3.5992 - val_acc: 0.8625\n",
      "Epoch 68/100\n",
      "690/690 [==============================] - 166s 241ms/step - loss: 2.7205 - acc: 0.9536 - val_loss: 4.4885 - val_acc: 0.8599\n",
      "Epoch 69/100\n",
      "690/690 [==============================] - 166s 241ms/step - loss: 2.7595 - acc: 0.9527 - val_loss: 3.2945 - val_acc: 0.8552\n",
      "Epoch 70/100\n",
      "690/690 [==============================] - 165s 240ms/step - loss: 2.6936 - acc: 0.9566 - val_loss: 2.7284 - val_acc: 0.9157\n",
      "Epoch 71/100\n",
      "690/690 [==============================] - 165s 240ms/step - loss: 2.6326 - acc: 0.9569 - val_loss: 2.9691 - val_acc: 0.9030\n",
      "Epoch 72/100\n",
      "690/690 [==============================] - 167s 242ms/step - loss: 2.7772 - acc: 0.9526 - val_loss: 4.0163 - val_acc: 0.7972\n",
      "Epoch 73/100\n",
      "690/690 [==============================] - 165s 239ms/step - loss: 2.7535 - acc: 0.9526 - val_loss: 4.5574 - val_acc: 0.8103\n",
      "Epoch 74/100\n",
      "690/690 [==============================] - 165s 240ms/step - loss: 2.7127 - acc: 0.9563 - val_loss: 3.0179 - val_acc: 0.8971\n",
      "Epoch 75/100\n",
      "690/690 [==============================] - 166s 241ms/step - loss: 2.6824 - acc: 0.9569 - val_loss: 2.8339 - val_acc: 0.9051\n",
      "Epoch 76/100\n",
      "690/690 [==============================] - 165s 240ms/step - loss: 2.7262 - acc: 0.9524 - val_loss: 4.2886 - val_acc: 0.8249\n",
      "Epoch 77/100\n",
      "690/690 [==============================] - 166s 240ms/step - loss: 2.7930 - acc: 0.9533 - val_loss: 4.1235 - val_acc: 0.8511\n",
      "Epoch 78/100\n",
      "690/690 [==============================] - 168s 243ms/step - loss: 2.6106 - acc: 0.9599 - val_loss: 2.8342 - val_acc: 0.9073\n",
      "Epoch 79/100\n",
      "690/690 [==============================] - 167s 242ms/step - loss: 2.6688 - acc: 0.9586 - val_loss: 2.9624 - val_acc: 0.8778\n",
      "Epoch 80/100\n",
      "690/690 [==============================] - 167s 242ms/step - loss: 2.6694 - acc: 0.9600 - val_loss: 3.1561 - val_acc: 0.8730\n",
      "Epoch 81/100\n",
      "690/690 [==============================] - 168s 244ms/step - loss: 2.7186 - acc: 0.9582 - val_loss: 3.0628 - val_acc: 0.8807\n",
      "Epoch 82/100\n",
      "690/690 [==============================] - 173s 251ms/step - loss: 2.5938 - acc: 0.9632 - val_loss: 3.1357 - val_acc: 0.8584\n",
      "Epoch 83/100\n",
      "690/690 [==============================] - 169s 245ms/step - loss: 2.7616 - acc: 0.9548 - val_loss: 3.0357 - val_acc: 0.8789\n",
      "Epoch 84/100\n",
      "690/690 [==============================] - 169s 245ms/step - loss: 2.7505 - acc: 0.9566 - val_loss: 3.2323 - val_acc: 0.9070\n",
      "Epoch 85/100\n",
      "690/690 [==============================] - 170s 247ms/step - loss: 2.7284 - acc: 0.9580 - val_loss: 4.6049 - val_acc: 0.7848\n",
      "Epoch 86/100\n",
      "690/690 [==============================] - 168s 243ms/step - loss: 2.6315 - acc: 0.9608 - val_loss: 3.4868 - val_acc: 0.8723\n",
      "Epoch 87/100\n",
      "690/690 [==============================] - 169s 245ms/step - loss: 2.6675 - acc: 0.9579 - val_loss: 2.9010 - val_acc: 0.8898\n",
      "Epoch 88/100\n",
      "690/690 [==============================] - 169s 246ms/step - loss: 2.7543 - acc: 0.9561 - val_loss: 3.2464 - val_acc: 0.8533\n",
      "Epoch 89/100\n",
      "690/690 [==============================] - 170s 247ms/step - loss: 2.7798 - acc: 0.9580 - val_loss: 4.0278 - val_acc: 0.8278\n",
      "Epoch 90/100\n",
      "690/690 [==============================] - 169s 245ms/step - loss: 2.6342 - acc: 0.9628 - val_loss: 3.2321 - val_acc: 0.8668\n",
      "Epoch 91/100\n",
      "690/690 [==============================] - 169s 245ms/step - loss: 2.6997 - acc: 0.9588 - val_loss: 2.9931 - val_acc: 0.8968\n",
      "Epoch 92/100\n",
      "690/690 [==============================] - 170s 246ms/step - loss: 2.7450 - acc: 0.9588 - val_loss: 4.4650 - val_acc: 0.8504\n",
      "Epoch 93/100\n",
      "690/690 [==============================] - 169s 244ms/step - loss: 2.7466 - acc: 0.9620 - val_loss: 3.9303 - val_acc: 0.8559\n",
      "Epoch 94/100\n",
      "690/690 [==============================] - 169s 245ms/step - loss: 2.7492 - acc: 0.9585 - val_loss: 3.0390 - val_acc: 0.8847\n",
      "Epoch 95/100\n",
      "690/690 [==============================] - 168s 244ms/step - loss: 2.7352 - acc: 0.9603 - val_loss: 5.4563 - val_acc: 0.7625\n",
      "Epoch 96/100\n",
      "690/690 [==============================] - 168s 244ms/step - loss: 2.8011 - acc: 0.9595 - val_loss: 3.5578 - val_acc: 0.8716\n",
      "Epoch 97/100\n",
      "690/690 [==============================] - 169s 244ms/step - loss: 2.6343 - acc: 0.9634 - val_loss: 2.8523 - val_acc: 0.9008\n",
      "Epoch 98/100\n",
      "690/690 [==============================] - 169s 246ms/step - loss: 2.6998 - acc: 0.9636 - val_loss: 3.3314 - val_acc: 0.9004\n",
      "Epoch 99/100\n",
      "690/690 [==============================] - 169s 244ms/step - loss: 2.7232 - acc: 0.9635 - val_loss: 3.0835 - val_acc: 0.8986\n",
      "Epoch 100/100\n",
      "690/690 [==============================] - 169s 245ms/step - loss: 2.8365 - acc: 0.9559 - val_loss: 2.8388 - val_acc: 0.9212\n"
     ]
    }
   ],
   "source": [
    "n_train = 11054\n",
    "batch_size = 16\n",
    "n_valid = 2757\n",
    "history = model.fit_generator(\n",
    "       train_generator,\n",
    "       steps_per_epoch=n_train//batch_size,\n",
    "       epochs=100,\n",
    "       validation_data=validation_generator,\n",
    "       validation_steps=n_valid//batch_size)"
   ]
  },
  {
   "cell_type": "code",
   "execution_count": 6,
   "metadata": {
    "_uuid": "a095cf23c5fb23d4000a71d9144d2e12daf5c2f8"
   },
   "outputs": [
    {
     "data": {
      "image/png": "[encoded data removed]",
      "text/plain": [
       "<Figure size 432x288 with 1 Axes>"
      ]
     },
     "metadata": {
      "needs_background": "light"
     },
     "output_type": "display_data"
    },
    {
     "data": {
      "image/png": "[encoded data removed]",
      "text/plain": [
       "<Figure size 432x288 with 1 Axes>"
      ]
     },
     "metadata": {
      "needs_background": "light"
     },
     "output_type": "display_data"
    }
   ],
   "source": [
    "acc = history.history['acc']\n",
    "val_acc = history.history['val_acc']\n",
    "loss = history.history['loss']\n",
    "val_loss = history.history['val_loss']\n",
    "epochs = range(1, len(acc) + 1)\n",
    "plt.plot(epochs, acc, 'bo', label='Training acc')\n",
    "plt.plot(epochs, val_acc, 'b', label='Validation acc')\n",
    "plt.title('Training and validation accuracy')\n",
    "plt.legend(loc='best')\n",
    "\n",
    "plt.figure()\n",
    "plt.plot(epochs, loss, 'bo', label='Training loss')\n",
    "plt.plot(epochs, val_loss, 'b', label='Validation loss')\n",
    "plt.title('Training and validation loss')\n",
    "plt.legend(loc='best');"
   ]
  },
  {
   "cell_type": "code",
   "execution_count": 7,
   "metadata": {
    "_uuid": "e85e4a068caf676e560678f7360eefc731d2e95c"
   },
   "outputs": [],
   "source": [
    "n_test = 456\n",
    "Y_pred = model.predict_generator(test_generator, n_test//16+1)\n",
    "y_pred = np.argmax(Y_pred, axis=1)\n",
    "#print(y_pred)"
   ]
  },
  {
   "cell_type": "code",
   "execution_count": 8,
   "metadata": {
    "_uuid": "2a351210377337e338f1c042fccf343f0b1f5c91"
   },
   "outputs": [
    {
     "name": "stdout",
     "output_type": "stream",
     "text": [
      "Confusion Matrix\n"
     ]
    }
   ],
   "source": [
    "\n",
    "print('Confusion Matrix')\n",
    "cm = confusion_matrix(test_generator.classes, y_pred)"
   ]
  },
  {
   "cell_type": "code",
   "execution_count": 9,
   "metadata": {
    "_uuid": "5f03fbd95d3c06204cba7181485fa7a8eadd1135"
   },
   "outputs": [],
   "source": [
    "def plot_confusion_matrix(cm, classes,\n",
    "                          normalize=False,\n",
    "                          title='Confusion matrix',\n",
    "                          cmap=plt.cm.Blues):\n",
    "    \"\"\"\n",
    "    This function prints and plots the confusion matrix.\n",
    "    Normalization can be applied by setting `normalize=True`.\n",
    "    \"\"\"\n",
    "    if normalize:\n",
    "        cm = cm.astype('float') / cm.sum(axis=1)[:, np.newaxis]\n",
    "        print(\"Normalized confusion matrix\")\n",
    "    else:\n",
    "        print('Confusion matrix, without normalization')\n",
    "\n",
    "    print(cm)\n",
    "    plt.figure(figsize=(8, 8))\n",
    "    plt.imshow(cm, interpolation='nearest', cmap=cmap)\n",
    "    plt.title(title)\n",
    "    plt.colorbar()\n",
    "    tick_marks = np.arange(len(classes))\n",
    "    plt.xticks(tick_marks, classes, rotation=45)\n",
    "    plt.yticks(tick_marks, classes)\n",
    "\n",
    "    fmt = '.2f' if normalize else 'd'\n",
    "    thresh = cm.max() / 2.\n",
    "    for i, j in itertools.product(range(cm.shape[0]), range(cm.shape[1])):\n",
    "        plt.text(j, i, format(cm[i, j], fmt),\n",
    "                 horizontalalignment=\"center\",\n",
    "                 color=\"white\" if cm[i, j] > thresh else \"black\")\n",
    "\n",
    "    plt.ylabel('Classe Real')\n",
    "    plt.xlabel('Classe Predita')\n",
    "    plt.tight_layout()"
   ]
  },
  {
   "cell_type": "code",
   "execution_count": 10,
   "metadata": {
    "_uuid": "0d992a48b9a655423d10ae34d9f1cb20bb57290c"
   },
   "outputs": [
    {
     "name": "stdout",
     "output_type": "stream",
     "text": [
      "Confusion matrix, without normalization\n",
      "[[50  0  0  0  0  0  0  0  0  0]\n",
      " [ 0 36  0  0  0  0  0  0  0  0]\n",
      " [ 0  0 50  0  0  0  0  0  0  0]\n",
      " [ 0  0  0 42  0  0  0  0  0  0]\n",
      " [ 2  0  0  0 43  0  0  0  0  0]\n",
      " [ 0  0  0  0  0 49  0  0  1  0]\n",
      " [ 0  0  0  0  0  2 47  0  0  0]\n",
      " [ 0  0  0  0  1  0  0 43  0  0]\n",
      " [ 1  0  0  0  0  1  0  1 43  0]\n",
      " [ 0  0  1  0  0  0  0  0  0 43]]\n"
     ]
    },
    {
     "data": {
      "image/png": "[encoded data removed]",
      "text/plain": [
       "<Figure size 576x576 with 2 Axes>"
      ]
     },
     "metadata": {
      "needs_background": "light"
     },
     "output_type": "display_data"
    }
   ],
   "source": [
    "nomes_classes=['homer_simpson', 'ned_flanders', 'moe_szyslak', 'lisa_simpson','bart_simpson',\n",
    "         'marge_simpson', 'krusty_the_clown', 'principal_skinner', 'charles_montgomery_burns', 'milhouse_van_houten']\n",
    "plot_confusion_matrix(cm, classes=nomes_classes,\n",
    "                      title='Matriz de Confusão')"
   ]
  },
  {
   "cell_type": "code",
   "execution_count": 11,
   "metadata": {
    "_uuid": "a6fd2296f176f57be4f3b13ff01a58e1080c2630"
   },
   "outputs": [
    {
     "name": "stdout",
     "output_type": "stream",
     "text": [
      "                          precision    recall  f1-score   support\n",
      "\n",
      "           homer_simpson       0.94      1.00      0.97        50\n",
      "            ned_flanders       1.00      1.00      1.00        36\n",
      "             moe_szyslak       0.98      1.00      0.99        50\n",
      "            lisa_simpson       1.00      1.00      1.00        42\n",
      "            bart_simpson       0.98      0.96      0.97        45\n",
      "           marge_simpson       0.94      0.98      0.96        50\n",
      "        krusty_the_clown       1.00      0.96      0.98        49\n",
      "       principal_skinner       0.98      0.98      0.98        44\n",
      "charles_montgomery_burns       0.98      0.93      0.96        46\n",
      "     milhouse_van_houten       1.00      0.98      0.99        44\n",
      "\n",
      "             avg / total       0.98      0.98      0.98       456\n",
      "\n"
     ]
    }
   ],
   "source": [
    "target_names=['homer_simpson', 'ned_flanders', 'moe_szyslak', 'lisa_simpson', \n",
    "                 'bart_simpson', 'marge_simpson', 'krusty_the_clown', \n",
    "                 'principal_skinner', 'charles_montgomery_burns', 'milhouse_van_houten']\n",
    "print (classification_report (test_generator.classes, y_pred, target_names = target_names))"
   ]
  },
  {
   "cell_type": "code",
   "execution_count": null,
   "metadata": {
    "_uuid": "ee4580fb254ce9ae57396e08a3f9406d91582e67"
   },
   "outputs": [],
   "source": []
  },
  {
   "cell_type": "code",
   "execution_count": null,
   "metadata": {
    "_uuid": "9ece60de1085eb09e3da1527bf732d1372c90b23"
   },
   "outputs": [],
   "source": []
  },
  {
   "cell_type": "code",
   "execution_count": null,
   "metadata": {
    "_uuid": "338709f7b3e5451f58eab5a681f6e52c69a0aa21"
   },
   "outputs": [],
   "source": []
  },
  {
   "cell_type": "code",
   "execution_count": null,
   "metadata": {
    "_uuid": "a08e0a45cb4fa3733bdd87c956fb0f5f21ba7825"
   },
   "outputs": [],
   "source": []
  }
 ],
 "metadata": {
  "kernelspec": {
   "display_name": "Python 2",
   "language": "python",
   "name": "python2"
  },
  "language_info": {
   "codemirror_mode": {
    "name": "ipython",
    "version": 2
   },
   "file_extension": ".py",
   "mimetype": "text/x-python",
   "name": "python",
   "nbconvert_exporter": "python",
   "pygments_lexer": "ipython2",
   "version": "2.7.15rc1"
  }
 },
 "nbformat": 4,
 "nbformat_minor": 1
}
