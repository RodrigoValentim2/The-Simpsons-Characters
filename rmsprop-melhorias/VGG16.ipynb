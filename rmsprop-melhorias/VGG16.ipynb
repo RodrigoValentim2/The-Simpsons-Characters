{
 "cells": [
  {
   "cell_type": "code",
   "execution_count": 1,
   "metadata": {
    "_cell_guid": "b1076dfc-b9ad-4769-8c92-a6c4dae69d19",
    "_uuid": "8f2839f25d086af736a60e9eeb907d3b93b6e0e5"
   },
   "outputs": [
    {
     "name": "stderr",
     "output_type": "stream",
     "text": [
      "Using TensorFlow backend.\n"
     ]
    }
   ],
   "source": [
    "from keras.datasets import mnist\n",
    "from keras.models import Sequential, Model\n",
    "from keras.layers import Dense, Dropout, Activation, Flatten, BatchNormalization, merge, Input, concatenate, add\n",
    "from keras.layers import Conv2D, MaxPooling2D, ZeroPadding2D, AveragePooling2D, GlobalAveragePooling2D\n",
    "from keras.utils import np_utils\n",
    "from keras.models import model_from_json\n",
    "from keras import backend as K\n",
    "from keras.preprocessing import image\n",
    "from keras.optimizers import SGD, RMSprop\n",
    "from keras.applications import InceptionV3, VGG16\n",
    "from keras.utils.data_utils import get_file\n",
    "import random\n",
    "import os\n",
    "from keras import regularizers\n",
    "import cv2\n",
    "from sklearn.metrics import classification_report, confusion_matrix\n",
    "import matplotlib.pyplot as plt\n",
    "import itertools\n",
    "import numpy as np\n",
    "import tensorflow as tf\n",
    "import matplotlib.pyplot as plt\n",
    "%matplotlib inline\n",
    "import warnings\n",
    "warnings.simplefilter(\"ignore\", UserWarning)\n",
    "%matplotlib inline"
   ]
  },
  {
   "cell_type": "code",
   "execution_count": 2,
   "metadata": {
    "_cell_guid": "79c7e3d0-c299-4dcb-8224-4455121ee9b0",
    "_uuid": "d629ff2d2480ee46fbb7e2d37f6b5fab8052498a"
   },
   "outputs": [
    {
     "name": "stdout",
     "output_type": "stream",
     "text": [
      "Found 11054 images belonging to 10 classes.\n",
      "Found 2757 images belonging to 10 classes.\n",
      "Found 456 images belonging to 10 classes.\n"
     ]
    }
   ],
   "source": [
    "from keras.preprocessing.image import ImageDataGenerator\n",
    "image_width = 75\n",
    "image_height = 75\n",
    "\n",
    "img_rows =  224\n",
    "img_cols =  224\n",
    "image_size = (image_width, image_height)\n",
    "\n",
    "data_datagen = ImageDataGenerator(rescale=1.0/255,  validation_split=0.20, featurewise_center=False, \n",
    "        samplewise_center=False, \n",
    "        featurewise_std_normalization=False, \n",
    "        samplewise_std_normalization=False,  \n",
    "        zca_whitening=False,  \n",
    "        rotation_range=10,  \n",
    "        zoom_range = 0.1,\n",
    "        width_shift_range=0.1, \n",
    "        height_shift_range=0.1,\n",
    "        horizontal_flip=True,  \n",
    "        vertical_flip=False)\n",
    "\n",
    "train_generator = data_datagen.flow_from_directory(\n",
    "        '../input/simpsons-dataset/simpsons_dataset/simpsons_dataset/',  # this is the target directory\n",
    "        target_size=image_size,  # all images will be resized to 224x224\n",
    "        batch_size=16,\n",
    "        class_mode='categorical',\n",
    "         subset='training')\n",
    "\n",
    "validation_generator = data_datagen.flow_from_directory(\n",
    "        '../input/simpsons-dataset/simpsons_dataset/simpsons_dataset/',  # this is the target directory\n",
    "        target_size=image_size,  # all images will be resized to 224x224\n",
    "        batch_size=16,\n",
    "        class_mode='categorical',\n",
    "         subset='validation', shuffle = False)\n",
    "\n",
    "test_datagen = ImageDataGenerator(rescale=1.0/255)\n",
    "test_generator = test_datagen.flow_from_directory(\n",
    "       '../input/dataset-simpsons-test/kaggle_simpson_testset/',  # this is the target directory\n",
    "        target_size=image_size,  # all images will be resized to 224x224\n",
    "        batch_size=16,\n",
    "        class_mode='categorical',shuffle = False)"
   ]
  },
  {
   "cell_type": "code",
   "execution_count": 3,
   "metadata": {
    "_uuid": "18c00c0164904d88bc7b0db217e3e740871dfe56"
   },
   "outputs": [],
   "source": [
    "def create_model():\n",
    "    vgg16 = VGG16(include_top=False, input_shape=(75, 75, 3))\n",
    "    \n",
    "    model = Sequential()\n",
    "    model.add(vgg16)\n",
    "    model.add(BatchNormalization())\n",
    "    model.add(Flatten())\n",
    "    model.add(Dropout(0.5))\n",
    "    model.add(Dense(256, activation='relu',kernel_regularizer=regularizers.l1_l2(l1=0.001,l2=0.001)))\n",
    "    model.add(Dense(10, activation='softmax'))   \n",
    "    model.summary()\n",
    "    #sgd = SGD(lr=1e-3, decay=1e-6, momentum=0.9, nesterov=True)\n",
    "    rmsprop = RMSprop(lr=1e-3, decay=1e-6)\n",
    "    model.compile(loss='categorical_crossentropy', optimizer=rmsprop, metrics=['acc'])\n",
    "    return model\n",
    "    \n",
    "    "
   ]
  },
  {
   "cell_type": "code",
   "execution_count": 4,
   "metadata": {
    "_uuid": "845d207f34f7664ce18df85efcffb56999250520",
    "scrolled": false
   },
   "outputs": [
    {
     "name": "stdout",
     "output_type": "stream",
     "text": [
      "Downloading data from https://github.com/fchollet/deep-learning-models/releases/download/v0.1/vgg16_weights_tf_dim_ordering_tf_kernels_notop.h5\n",
      "58892288/58889256 [==============================] - 1s 0us/step\n",
      "_________________________________________________________________\n",
      "Layer (type)                 Output Shape              Param #   \n",
      "=================================================================\n",
      "vgg16 (Model)                (None, 2, 2, 512)         14714688  \n",
      "_________________________________________________________________\n",
      "batch_normalization_1 (Batch (None, 2, 2, 512)         2048      \n",
      "_________________________________________________________________\n",
      "flatten_1 (Flatten)          (None, 2048)              0         \n",
      "_________________________________________________________________\n",
      "dropout_1 (Dropout)          (None, 2048)              0         \n",
      "_________________________________________________________________\n",
      "dense_1 (Dense)              (None, 256)               524544    \n",
      "_________________________________________________________________\n",
      "dense_2 (Dense)              (None, 10)                2570      \n",
      "=================================================================\n",
      "Total params: 15,243,850\n",
      "Trainable params: 15,242,826\n",
      "Non-trainable params: 1,024\n",
      "_________________________________________________________________\n"
     ]
    }
   ],
   "source": [
    "model = create_model()"
   ]
  },
  {
   "cell_type": "code",
   "execution_count": 5,
   "metadata": {
    "_uuid": "26b6f5fccce57e0066c289b6b961da05581a8cec",
    "scrolled": false
   },
   "outputs": [
    {
     "name": "stdout",
     "output_type": "stream",
     "text": [
      "Epoch 1/100\n",
      "690/690 [==============================] - 105s 152ms/step - loss: 3.5396 - acc: 0.2488 - val_loss: 3.6460 - val_acc: 0.1512\n",
      "Epoch 2/100\n",
      "690/690 [==============================] - 93s 134ms/step - loss: 2.1245 - acc: 0.4036 - val_loss: 2.4061 - val_acc: 0.3729\n",
      "Epoch 3/100\n",
      "690/690 [==============================] - 92s 133ms/step - loss: 1.8114 - acc: 0.5224 - val_loss: 2.4739 - val_acc: 0.3659\n",
      "Epoch 4/100\n",
      "690/690 [==============================] - 92s 133ms/step - loss: 1.5437 - acc: 0.6388 - val_loss: 1.6884 - val_acc: 0.5954\n",
      "Epoch 5/100\n",
      "690/690 [==============================] - 92s 133ms/step - loss: 1.4018 - acc: 0.6871 - val_loss: 3.6249 - val_acc: 0.5038\n",
      "Epoch 6/100\n",
      "690/690 [==============================] - 92s 133ms/step - loss: 1.2812 - acc: 0.7228 - val_loss: 1.3522 - val_acc: 0.6965\n",
      "Epoch 7/100\n",
      "690/690 [==============================] - 92s 133ms/step - loss: 1.1803 - acc: 0.7500 - val_loss: 1.4939 - val_acc: 0.7041\n",
      "Epoch 8/100\n",
      "690/690 [==============================] - 91s 132ms/step - loss: 1.1238 - acc: 0.7686 - val_loss: 1.3543 - val_acc: 0.6935\n",
      "Epoch 9/100\n",
      "690/690 [==============================] - 93s 135ms/step - loss: 1.0646 - acc: 0.7908 - val_loss: 1.0908 - val_acc: 0.7844\n",
      "Epoch 10/100\n",
      "690/690 [==============================] - 94s 137ms/step - loss: 1.0077 - acc: 0.8088 - val_loss: 1.1687 - val_acc: 0.7829\n",
      "Epoch 11/100\n",
      "690/690 [==============================] - 94s 136ms/step - loss: 0.9473 - acc: 0.8286 - val_loss: 1.8413 - val_acc: 0.6771\n",
      "Epoch 12/100\n",
      "690/690 [==============================] - 94s 136ms/step - loss: 0.9116 - acc: 0.8442 - val_loss: 1.0745 - val_acc: 0.8172\n",
      "Epoch 13/100\n",
      "690/690 [==============================] - 94s 137ms/step - loss: 0.8836 - acc: 0.8490 - val_loss: 1.1941 - val_acc: 0.7782\n",
      "Epoch 14/100\n",
      "690/690 [==============================] - 94s 136ms/step - loss: 0.8297 - acc: 0.8648 - val_loss: 1.2474 - val_acc: 0.7632\n",
      "Epoch 15/100\n",
      "690/690 [==============================] - 94s 137ms/step - loss: 0.8028 - acc: 0.8713 - val_loss: 0.9851 - val_acc: 0.8172\n",
      "Epoch 16/100\n",
      "690/690 [==============================] - 94s 137ms/step - loss: 0.7576 - acc: 0.8861 - val_loss: 0.8988 - val_acc: 0.8453\n",
      "Epoch 17/100\n",
      "690/690 [==============================] - 93s 135ms/step - loss: 0.7465 - acc: 0.8894 - val_loss: 1.0871 - val_acc: 0.8008\n",
      "Epoch 18/100\n",
      "690/690 [==============================] - 93s 134ms/step - loss: 0.7212 - acc: 0.8935 - val_loss: 0.9041 - val_acc: 0.8471\n",
      "Epoch 19/100\n",
      "690/690 [==============================] - 93s 134ms/step - loss: 0.7142 - acc: 0.8955 - val_loss: 0.9397 - val_acc: 0.8340\n",
      "Epoch 20/100\n",
      "690/690 [==============================] - 95s 137ms/step - loss: 0.6895 - acc: 0.9040 - val_loss: 0.9274 - val_acc: 0.8289\n",
      "Epoch 21/100\n",
      "690/690 [==============================] - 95s 138ms/step - loss: 0.6754 - acc: 0.9020 - val_loss: 0.9196 - val_acc: 0.8347\n",
      "Epoch 22/100\n",
      "690/690 [==============================] - 95s 137ms/step - loss: 0.6556 - acc: 0.9087 - val_loss: 0.8141 - val_acc: 0.8752\n",
      "Epoch 23/100\n",
      "690/690 [==============================] - 96s 139ms/step - loss: 0.6471 - acc: 0.9128 - val_loss: 0.9683 - val_acc: 0.8336\n",
      "Epoch 24/100\n",
      "690/690 [==============================] - 96s 139ms/step - loss: 0.6261 - acc: 0.9125 - val_loss: 1.4676 - val_acc: 0.7592\n",
      "Epoch 25/100\n",
      "690/690 [==============================] - 96s 139ms/step - loss: 0.6278 - acc: 0.9154 - val_loss: 1.2161 - val_acc: 0.7804\n",
      "Epoch 26/100\n",
      "690/690 [==============================] - 96s 140ms/step - loss: 0.6020 - acc: 0.9205 - val_loss: 0.9758 - val_acc: 0.8563\n",
      "Epoch 27/100\n",
      "690/690 [==============================] - 96s 140ms/step - loss: 0.6201 - acc: 0.9204 - val_loss: 0.9185 - val_acc: 0.8508\n",
      "Epoch 28/100\n",
      "690/690 [==============================] - 96s 140ms/step - loss: 0.6034 - acc: 0.9210 - val_loss: 0.8112 - val_acc: 0.8858\n",
      "Epoch 29/100\n",
      "690/690 [==============================] - 96s 140ms/step - loss: 0.6070 - acc: 0.9215 - val_loss: 0.7401 - val_acc: 0.8833\n",
      "Epoch 30/100\n",
      "690/690 [==============================] - 96s 140ms/step - loss: 0.5909 - acc: 0.9275 - val_loss: 0.8185 - val_acc: 0.8833\n",
      "Epoch 31/100\n",
      "690/690 [==============================] - 96s 140ms/step - loss: 0.5760 - acc: 0.9308 - val_loss: 0.7758 - val_acc: 0.8931\n",
      "Epoch 32/100\n",
      "690/690 [==============================] - 96s 140ms/step - loss: 0.5855 - acc: 0.9270 - val_loss: 0.7674 - val_acc: 0.8916\n",
      "Epoch 33/100\n",
      "690/690 [==============================] - 96s 140ms/step - loss: 0.5757 - acc: 0.9305 - val_loss: 0.9052 - val_acc: 0.8628\n",
      "Epoch 34/100\n",
      "690/690 [==============================] - 97s 140ms/step - loss: 0.5745 - acc: 0.9314 - val_loss: 1.2286 - val_acc: 0.8311\n",
      "Epoch 35/100\n",
      "690/690 [==============================] - 96s 140ms/step - loss: 0.5635 - acc: 0.9339 - val_loss: 0.8444 - val_acc: 0.8796\n",
      "Epoch 36/100\n",
      "690/690 [==============================] - 96s 139ms/step - loss: 0.5454 - acc: 0.9361 - val_loss: 0.7292 - val_acc: 0.8957\n",
      "Epoch 37/100\n",
      "690/690 [==============================] - 97s 140ms/step - loss: 0.5552 - acc: 0.9357 - val_loss: 0.7735 - val_acc: 0.8789\n",
      "Epoch 38/100\n",
      "690/690 [==============================] - 97s 140ms/step - loss: 0.5572 - acc: 0.9343 - val_loss: 0.7847 - val_acc: 0.8906\n",
      "Epoch 39/100\n",
      "690/690 [==============================] - 96s 140ms/step - loss: 0.5301 - acc: 0.9417 - val_loss: 0.8299 - val_acc: 0.8778\n",
      "Epoch 40/100\n",
      "690/690 [==============================] - 97s 140ms/step - loss: 0.5463 - acc: 0.9366 - val_loss: 0.9111 - val_acc: 0.8727\n",
      "Epoch 41/100\n",
      "690/690 [==============================] - 97s 140ms/step - loss: 0.5464 - acc: 0.9367 - val_loss: 0.7996 - val_acc: 0.8603\n",
      "Epoch 42/100\n",
      "690/690 [==============================] - 96s 139ms/step - loss: 0.5339 - acc: 0.9397 - val_loss: 0.7142 - val_acc: 0.8997\n",
      "Epoch 43/100\n",
      "690/690 [==============================] - 96s 140ms/step - loss: 0.5316 - acc: 0.9416 - val_loss: 0.7154 - val_acc: 0.8920\n",
      "Epoch 44/100\n",
      "690/690 [==============================] - 97s 141ms/step - loss: 0.5281 - acc: 0.9397 - val_loss: 0.7877 - val_acc: 0.8946\n",
      "Epoch 45/100\n",
      "690/690 [==============================] - 97s 141ms/step - loss: 0.5108 - acc: 0.9439 - val_loss: 0.7721 - val_acc: 0.8989\n",
      "Epoch 46/100\n",
      "690/690 [==============================] - 97s 141ms/step - loss: 0.5219 - acc: 0.9432 - val_loss: 0.8110 - val_acc: 0.8687\n",
      "Epoch 47/100\n",
      "690/690 [==============================] - 97s 141ms/step - loss: 0.5138 - acc: 0.9445 - val_loss: 2.6127 - val_acc: 0.1638\n",
      "Epoch 48/100\n",
      "690/690 [==============================] - 97s 141ms/step - loss: 0.5150 - acc: 0.9472 - val_loss: 2.6041 - val_acc: 0.1638\n",
      "Epoch 49/100\n",
      "690/690 [==============================] - 97s 141ms/step - loss: 0.5253 - acc: 0.9420 - val_loss: 2.6141 - val_acc: 0.1638\n",
      "Epoch 50/100\n",
      "690/690 [==============================] - 98s 141ms/step - loss: 0.5080 - acc: 0.9459 - val_loss: 2.6211 - val_acc: 0.1638\n",
      "Epoch 51/100\n",
      "690/690 [==============================] - 97s 141ms/step - loss: 0.5151 - acc: 0.9444 - val_loss: 2.6070 - val_acc: 0.1638\n",
      "Epoch 52/100\n",
      "690/690 [==============================] - 98s 141ms/step - loss: 0.5150 - acc: 0.9451 - val_loss: 2.6173 - val_acc: 0.1638\n",
      "Epoch 53/100\n",
      "690/690 [==============================] - 98s 143ms/step - loss: 0.5072 - acc: 0.9457 - val_loss: 2.6207 - val_acc: 0.1638\n",
      "Epoch 54/100\n",
      "690/690 [==============================] - 98s 142ms/step - loss: 0.4999 - acc: 0.9504 - val_loss: 2.6082 - val_acc: 0.1638\n",
      "Epoch 55/100\n",
      "690/690 [==============================] - 97s 141ms/step - loss: 0.4943 - acc: 0.9499 - val_loss: 2.6005 - val_acc: 0.1638\n",
      "Epoch 56/100\n",
      "690/690 [==============================] - 98s 141ms/step - loss: 0.4992 - acc: 0.9487 - val_loss: 2.6040 - val_acc: 0.1638\n",
      "Epoch 57/100\n",
      "690/690 [==============================] - 98s 142ms/step - loss: 0.5023 - acc: 0.9476 - val_loss: 2.6135 - val_acc: 0.1638\n",
      "Epoch 58/100\n",
      "690/690 [==============================] - 97s 141ms/step - loss: 0.5016 - acc: 0.9487 - val_loss: 2.6129 - val_acc: 0.1638\n",
      "Epoch 59/100\n",
      "690/690 [==============================] - 97s 141ms/step - loss: 0.4871 - acc: 0.9506 - val_loss: 2.6063 - val_acc: 0.1638\n",
      "Epoch 60/100\n",
      "690/690 [==============================] - 98s 141ms/step - loss: 0.4916 - acc: 0.9483 - val_loss: 2.6154 - val_acc: 0.1638\n"
     ]
    },
    {
     "name": "stdout",
     "output_type": "stream",
     "text": [
      "Epoch 61/100\n",
      "690/690 [==============================] - 97s 141ms/step - loss: 0.4928 - acc: 0.9513 - val_loss: 2.6105 - val_acc: 0.1638\n",
      "Epoch 62/100\n",
      "690/690 [==============================] - 97s 141ms/step - loss: 0.4945 - acc: 0.9526 - val_loss: 2.6130 - val_acc: 0.1638\n",
      "Epoch 63/100\n",
      "690/690 [==============================] - 98s 142ms/step - loss: 0.4887 - acc: 0.9545 - val_loss: 2.6194 - val_acc: 0.1638\n",
      "Epoch 64/100\n",
      "690/690 [==============================] - 97s 141ms/step - loss: 0.4911 - acc: 0.9524 - val_loss: 2.6244 - val_acc: 0.1638\n",
      "Epoch 65/100\n",
      "690/690 [==============================] - 97s 141ms/step - loss: 0.4915 - acc: 0.9496 - val_loss: 2.6206 - val_acc: 0.1638\n",
      "Epoch 66/100\n",
      "690/690 [==============================] - 98s 141ms/step - loss: 0.5017 - acc: 0.9536 - val_loss: 2.6257 - val_acc: 0.1638\n",
      "Epoch 67/100\n",
      "690/690 [==============================] - 97s 141ms/step - loss: 0.5111 - acc: 0.9484 - val_loss: 2.6286 - val_acc: 0.1638\n",
      "Epoch 68/100\n",
      "690/690 [==============================] - 97s 141ms/step - loss: 0.5177 - acc: 0.9493 - val_loss: 2.6190 - val_acc: 0.1638\n",
      "Epoch 69/100\n",
      "690/690 [==============================] - 98s 142ms/step - loss: 0.4944 - acc: 0.9525 - val_loss: 2.6175 - val_acc: 0.1638\n",
      "Epoch 70/100\n",
      "690/690 [==============================] - 98s 142ms/step - loss: 0.4970 - acc: 0.9515 - val_loss: 2.6080 - val_acc: 0.1638\n",
      "Epoch 71/100\n",
      "690/690 [==============================] - 97s 141ms/step - loss: 0.5180 - acc: 0.9461 - val_loss: 2.6169 - val_acc: 0.1638\n",
      "Epoch 72/100\n",
      "690/690 [==============================] - 97s 141ms/step - loss: 0.4989 - acc: 0.9504 - val_loss: 2.6165 - val_acc: 0.1638\n",
      "Epoch 73/100\n",
      "690/690 [==============================] - 98s 142ms/step - loss: 0.5316 - acc: 0.9406 - val_loss: 2.6196 - val_acc: 0.1638\n",
      "Epoch 74/100\n",
      "690/690 [==============================] - 97s 141ms/step - loss: 0.5692 - acc: 0.9308 - val_loss: 2.6176 - val_acc: 0.1638\n",
      "Epoch 75/100\n",
      "690/690 [==============================] - 97s 141ms/step - loss: 0.5101 - acc: 0.9451 - val_loss: 2.6079 - val_acc: 0.1638\n",
      "Epoch 76/100\n",
      "690/690 [==============================] - 98s 141ms/step - loss: 0.4995 - acc: 0.9501 - val_loss: 2.6011 - val_acc: 0.1638\n",
      "Epoch 77/100\n",
      "690/690 [==============================] - 97s 141ms/step - loss: 0.5097 - acc: 0.9454 - val_loss: 2.6055 - val_acc: 0.1638\n",
      "Epoch 78/100\n",
      "690/690 [==============================] - 97s 141ms/step - loss: 0.4916 - acc: 0.9513 - val_loss: 2.6057 - val_acc: 0.1638\n",
      "Epoch 79/100\n",
      "690/690 [==============================] - 97s 141ms/step - loss: 0.4756 - acc: 0.9535 - val_loss: 2.5908 - val_acc: 0.1638\n",
      "Epoch 80/100\n",
      "690/690 [==============================] - 97s 140ms/step - loss: 0.4693 - acc: 0.9512 - val_loss: 2.6018 - val_acc: 0.1638\n",
      "Epoch 81/100\n",
      "690/690 [==============================] - 97s 141ms/step - loss: 0.4859 - acc: 0.9478 - val_loss: 2.5856 - val_acc: 0.1638\n",
      "Epoch 82/100\n",
      "690/690 [==============================] - 97s 141ms/step - loss: 0.4878 - acc: 0.9447 - val_loss: 2.5885 - val_acc: 0.1638\n",
      "Epoch 83/100\n",
      "690/690 [==============================] - 97s 141ms/step - loss: 0.5003 - acc: 0.9405 - val_loss: 2.5905 - val_acc: 0.1638\n",
      "Epoch 84/100\n",
      "690/690 [==============================] - 97s 140ms/step - loss: 0.5097 - acc: 0.9399 - val_loss: 2.5875 - val_acc: 0.1638\n",
      "Epoch 85/100\n",
      "690/690 [==============================] - 97s 141ms/step - loss: 0.5164 - acc: 0.9377 - val_loss: 2.5916 - val_acc: 0.1638\n",
      "Epoch 86/100\n",
      "690/690 [==============================] - 97s 140ms/step - loss: 0.5052 - acc: 0.9394 - val_loss: 2.6021 - val_acc: 0.1638\n",
      "Epoch 87/100\n",
      "690/690 [==============================] - 97s 140ms/step - loss: 0.6390 - acc: 0.8929 - val_loss: 2.5828 - val_acc: 0.1638\n",
      "Epoch 88/100\n",
      "690/690 [==============================] - 97s 140ms/step - loss: 0.5603 - acc: 0.9197 - val_loss: 2.5948 - val_acc: 0.1638\n",
      "Epoch 89/100\n",
      "690/690 [==============================] - 97s 141ms/step - loss: 0.5074 - acc: 0.9348 - val_loss: 2.5817 - val_acc: 0.1638\n",
      "Epoch 90/100\n",
      "690/690 [==============================] - 97s 141ms/step - loss: 0.4625 - acc: 0.9537 - val_loss: 2.5801 - val_acc: 0.1638\n",
      "Epoch 91/100\n",
      "690/690 [==============================] - 98s 141ms/step - loss: 0.4887 - acc: 0.9416 - val_loss: 2.5872 - val_acc: 0.1638\n",
      "Epoch 92/100\n",
      "690/690 [==============================] - 98s 142ms/step - loss: 0.5131 - acc: 0.9370 - val_loss: 2.5779 - val_acc: 0.1638\n",
      "Epoch 93/100\n",
      "690/690 [==============================] - 97s 140ms/step - loss: 0.8535 - acc: 0.7864 - val_loss: 2.5872 - val_acc: 0.1638\n",
      "Epoch 94/100\n",
      "690/690 [==============================] - 97s 141ms/step - loss: 1.1443 - acc: 0.6741 - val_loss: 2.5730 - val_acc: 0.1638\n",
      "Epoch 95/100\n",
      "690/690 [==============================] - 97s 141ms/step - loss: 0.8779 - acc: 0.7736 - val_loss: 2.5675 - val_acc: 0.1638\n",
      "Epoch 96/100\n",
      "690/690 [==============================] - 96s 140ms/step - loss: 0.7087 - acc: 0.8538 - val_loss: 2.5719 - val_acc: 0.1638\n",
      "Epoch 97/100\n",
      "690/690 [==============================] - 97s 140ms/step - loss: 0.5515 - acc: 0.9151 - val_loss: 2.5722 - val_acc: 0.1638\n",
      "Epoch 98/100\n",
      "690/690 [==============================] - 97s 141ms/step - loss: 0.5469 - acc: 0.9185 - val_loss: 2.5718 - val_acc: 0.1638\n",
      "Epoch 99/100\n",
      "690/690 [==============================] - 97s 140ms/step - loss: 0.5640 - acc: 0.9059 - val_loss: 2.5650 - val_acc: 0.1638\n",
      "Epoch 100/100\n",
      "690/690 [==============================] - 97s 141ms/step - loss: 0.6211 - acc: 0.8900 - val_loss: 2.5639 - val_acc: 0.1638\n"
     ]
    }
   ],
   "source": [
    "n_train = 11054\n",
    "batch_size = 16\n",
    "n_valid = 2757\n",
    "history = model.fit_generator(\n",
    "       train_generator,\n",
    "       steps_per_epoch=n_train//batch_size,\n",
    "       epochs=100,\n",
    "       validation_data=validation_generator,\n",
    "       validation_steps=n_valid//batch_size)"
   ]
  },
  {
   "cell_type": "code",
   "execution_count": 6,
   "metadata": {
    "_uuid": "a30f56a0ca21cd76f423051fb6de8d49e1fd2d58"
   },
   "outputs": [
    {
     "data": {
      "image/png": "[encoded data removed]",
      "text/plain": [
       "<Figure size 432x288 with 1 Axes>"
      ]
     },
     "metadata": {
      "needs_background": "light"
     },
     "output_type": "display_data"
    },
    {
     "data": {
      "image/png": "[encoded data removed]",
      "text/plain": [
       "<Figure size 432x288 with 1 Axes>"
      ]
     },
     "metadata": {
      "needs_background": "light"
     },
     "output_type": "display_data"
    }
   ],
   "source": [
    "\n",
    "acc = history.history['acc']\n",
    "val_acc = history.history['val_acc']\n",
    "loss = history.history['loss']\n",
    "val_loss = history.history['val_loss']\n",
    "epochs = range(1, len(acc) + 1)\n",
    "plt.plot(epochs, acc, 'bo', label='Training acc')\n",
    "plt.plot(epochs, val_acc, 'b', label='Validation acc')\n",
    "plt.title('Training and validation accuracy')\n",
    "plt.legend(loc='best')\n",
    "\n",
    "plt.figure()\n",
    "plt.plot(epochs, loss, 'bo', label='Training loss')\n",
    "plt.plot(epochs, val_loss, 'b', label='Validation loss')\n",
    "plt.title('Training and validation loss')\n",
    "plt.legend(loc='best');"
   ]
  },
  {
   "cell_type": "code",
   "execution_count": 7,
   "metadata": {
    "_uuid": "3235c9381374d6f42d3d5daac773166ee5686850"
   },
   "outputs": [],
   "source": [
    "n_test = 456\n",
    "Y_pred = model.predict_generator(test_generator, n_test//16+1)\n",
    "y_pred = np.argmax(Y_pred, axis=1)\n",
    "#print(y_pred)\n",
    "\n"
   ]
  },
  {
   "cell_type": "code",
   "execution_count": 8,
   "metadata": {
    "_uuid": "fb807e8c0338040c54ccb964352ab97f04aa5fbb"
   },
   "outputs": [
    {
     "name": "stdout",
     "output_type": "stream",
     "text": [
      "Confusion Matrix\n"
     ]
    }
   ],
   "source": [
    "print('Confusion Matrix')\n",
    "cm = confusion_matrix(test_generator.classes, y_pred)"
   ]
  },
  {
   "cell_type": "code",
   "execution_count": 9,
   "metadata": {
    "_uuid": "6fa3256fd72b46c5be851f82aed06e6044dc5831"
   },
   "outputs": [],
   "source": [
    "\n",
    "def plot_confusion_matrix(cm, classes,\n",
    "                          normalize=False,\n",
    "                          title='Confusion matrix',\n",
    "                          cmap=plt.cm.Blues):\n",
    "    \"\"\"\n",
    "    This function prints and plots the confusion matrix.\n",
    "    Normalization can be applied by setting `normalize=True`.\n",
    "    \"\"\"\n",
    "    if normalize:\n",
    "        cm = cm.astype('float') / cm.sum(axis=1)[:, np.newaxis]\n",
    "        print(\"Normalized confusion matrix\")\n",
    "    else:\n",
    "        print('Confusion matrix, without normalization')\n",
    "\n",
    "    print(cm)\n",
    "    plt.figure(figsize=(8, 8))\n",
    "    plt.imshow(cm, interpolation='nearest', cmap=cmap)\n",
    "    plt.title(title)\n",
    "    plt.colorbar()\n",
    "    tick_marks = np.arange(len(classes))\n",
    "    plt.xticks(tick_marks, classes, rotation=45)\n",
    "    plt.yticks(tick_marks, classes)\n",
    "\n",
    "    fmt = '.2f' if normalize else 'd'\n",
    "    thresh = cm.max() / 2.\n",
    "    for i, j in itertools.product(range(cm.shape[0]), range(cm.shape[1])):\n",
    "        plt.text(j, i, format(cm[i, j], fmt),\n",
    "                 horizontalalignment=\"center\",\n",
    "                 color=\"white\" if cm[i, j] > thresh else \"black\")\n",
    "\n",
    "    plt.ylabel('Classe Real')\n",
    "    plt.xlabel('Classe Predita')\n",
    "    plt.tight_layout()"
   ]
  },
  {
   "cell_type": "code",
   "execution_count": 10,
   "metadata": {
    "_uuid": "c3ede2972b9a37df6aa77f8a0304b6be0e38ca35"
   },
   "outputs": [
    {
     "name": "stdout",
     "output_type": "stream",
     "text": [
      "Confusion matrix, without normalization\n",
      "[[ 0  0 50  0  0  0  0  0  0  0]\n",
      " [ 0  0 36  0  0  0  0  0  0  0]\n",
      " [ 0  0 50  0  0  0  0  0  0  0]\n",
      " [ 0  0 42  0  0  0  0  0  0  0]\n",
      " [ 0  0 45  0  0  0  0  0  0  0]\n",
      " [ 0  0 50  0  0  0  0  0  0  0]\n",
      " [ 0  0 49  0  0  0  0  0  0  0]\n",
      " [ 0  0 44  0  0  0  0  0  0  0]\n",
      " [ 0  0 46  0  0  0  0  0  0  0]\n",
      " [ 0  0 44  0  0  0  0  0  0  0]]\n"
     ]
    },
    {
     "data": {
      "image/png": "[encoded data removed]",
      "text/plain": [
       "<Figure size 576x576 with 2 Axes>"
      ]
     },
     "metadata": {
      "needs_background": "light"
     },
     "output_type": "display_data"
    }
   ],
   "source": [
    "nomes_classes=['homer_simpson', 'ned_flanders', 'moe_szyslak', 'lisa_simpson','bart_simpson',\n",
    "         'marge_simpson', 'krusty_the_clown', 'principal_skinner', 'charles_montgomery_burns', 'milhouse_van_houten']\n",
    "plot_confusion_matrix(cm, classes=nomes_classes,\n",
    "                      title='Matriz de Confusão')"
   ]
  },
  {
   "cell_type": "code",
   "execution_count": 11,
   "metadata": {
    "_uuid": "4d906b2a9fa106e1f73008f96834ebe657192135"
   },
   "outputs": [
    {
     "name": "stdout",
     "output_type": "stream",
     "text": [
      "                          precision    recall  f1-score   support\n",
      "\n",
      "           homer_simpson       0.00      0.00      0.00        50\n",
      "            ned_flanders       0.00      0.00      0.00        36\n",
      "             moe_szyslak       0.11      1.00      0.20        50\n",
      "            lisa_simpson       0.00      0.00      0.00        42\n",
      "            bart_simpson       0.00      0.00      0.00        45\n",
      "           marge_simpson       0.00      0.00      0.00        50\n",
      "        krusty_the_clown       0.00      0.00      0.00        49\n",
      "       principal_skinner       0.00      0.00      0.00        44\n",
      "charles_montgomery_burns       0.00      0.00      0.00        46\n",
      "     milhouse_van_houten       0.00      0.00      0.00        44\n",
      "\n",
      "             avg / total       0.01      0.11      0.02       456\n",
      "\n"
     ]
    }
   ],
   "source": [
    "\n",
    "target_names=['homer_simpson', 'ned_flanders', 'moe_szyslak', 'lisa_simpson', \n",
    "                 'bart_simpson', 'marge_simpson', 'krusty_the_clown', \n",
    "                 'principal_skinner', 'charles_montgomery_burns', 'milhouse_van_houten']\n",
    "print (classification_report (test_generator.classes, y_pred, target_names = target_names))"
   ]
  },
  {
   "cell_type": "code",
   "execution_count": null,
   "metadata": {
    "_uuid": "60e9ad72361c4d7fe8745dfc518271d285300595"
   },
   "outputs": [],
   "source": []
  },
  {
   "cell_type": "code",
   "execution_count": null,
   "metadata": {
    "_uuid": "a9ab349c746b82f0a4ea64d9753968a6d136c7c2"
   },
   "outputs": [],
   "source": []
  }
 ],
 "metadata": {
  "kernelspec": {
   "display_name": "Python 2",
   "language": "python",
   "name": "python2"
  },
  "language_info": {
   "codemirror_mode": {
    "name": "ipython",
    "version": 2
   },
   "file_extension": ".py",
   "mimetype": "text/x-python",
   "name": "python",
   "nbconvert_exporter": "python",
   "pygments_lexer": "ipython2",
   "version": "2.7.15rc1"
  }
 },
 "nbformat": 4,
 "nbformat_minor": 1
}
