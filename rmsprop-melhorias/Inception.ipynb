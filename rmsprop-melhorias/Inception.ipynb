{
 "cells": [
  {
   "cell_type": "code",
   "execution_count": 21,
   "metadata": {
    "_cell_guid": "b1076dfc-b9ad-4769-8c92-a6c4dae69d19",
    "_uuid": "8f2839f25d086af736a60e9eeb907d3b93b6e0e5"
   },
   "outputs": [],
   "source": [
    "from keras.datasets import mnist\n",
    "from keras.models import Sequential, Model\n",
    "from keras.layers import Dense, Dropout, Activation, Flatten, BatchNormalization, merge, Input, concatenate, add\n",
    "from keras.layers import Conv2D, MaxPooling2D, ZeroPadding2D, AveragePooling2D, GlobalAveragePooling2D\n",
    "from keras.utils import np_utils\n",
    "from keras.models import model_from_json\n",
    "from keras import backend as K\n",
    "from keras.preprocessing import image\n",
    "from keras.optimizers import SGD, RMSprop\n",
    "from keras.applications import InceptionV3\n",
    "from keras.utils.data_utils import get_file\n",
    "import random\n",
    "import os\n",
    "import cv2\n",
    "from keras import regularizers\n",
    "from sklearn.metrics import classification_report, confusion_matrix\n",
    "import itertools\n",
    "import numpy as np\n",
    "import tensorflow as tf\n",
    "import matplotlib.pyplot as plt\n",
    "%matplotlib inline\n",
    "import warnings\n",
    "warnings.simplefilter(\"ignore\", UserWarning)"
   ]
  },
  {
   "cell_type": "code",
   "execution_count": 5,
   "metadata": {
    "_cell_guid": "79c7e3d0-c299-4dcb-8224-4455121ee9b0",
    "_uuid": "d629ff2d2480ee46fbb7e2d37f6b5fab8052498a"
   },
   "outputs": [
    {
     "name": "stdout",
     "output_type": "stream",
     "text": [
      "Found 11054 images belonging to 10 classes.\n",
      "Found 2757 images belonging to 10 classes.\n",
      "Found 456 images belonging to 10 classes.\n"
     ]
    }
   ],
   "source": [
    "from keras.preprocessing.image import ImageDataGenerator\n",
    "image_width = 75\n",
    "image_height = 75\n",
    "\n",
    "img_rows =  224\n",
    "img_cols =  224\n",
    "image_size = (image_width, image_height)\n",
    "\n",
    "data_datagen = ImageDataGenerator(rescale=1.0/255,  validation_split=0.20, featurewise_center=False, \n",
    "        samplewise_center=False, \n",
    "        featurewise_std_normalization=False, \n",
    "        samplewise_std_normalization=False,  \n",
    "        zca_whitening=False,  \n",
    "        rotation_range=10,  \n",
    "        zoom_range = 0.1,\n",
    "        width_shift_range=0.1, \n",
    "        height_shift_range=0.1,\n",
    "        horizontal_flip=True,  \n",
    "        vertical_flip=False)\n",
    "\n",
    "train_generator = data_datagen.flow_from_directory(\n",
    "        '../input/simpsons-dataset/simpsons_dataset/simpsons_dataset/',  # this is the target directory\n",
    "        target_size=image_size,  # all images will be resized to 224x224\n",
    "        batch_size=16,\n",
    "        class_mode='categorical',\n",
    "         subset='training')\n",
    "\n",
    "validation_generator = data_datagen.flow_from_directory(\n",
    "        '../input/simpsons-dataset/simpsons_dataset/simpsons_dataset/',  # this is the target directory\n",
    "        target_size=image_size,  # all images will be resized to 224x224\n",
    "        batch_size=16,\n",
    "        class_mode='categorical',\n",
    "         subset='validation', shuffle = False)\n",
    "\n",
    "test_datagen = ImageDataGenerator(rescale=1.0/255)\n",
    "test_generator = test_datagen.flow_from_directory(\n",
    "       '../input/dataset-simpsons-test/kaggle_simpson_testset/',  # this is the target directory\n",
    "        target_size=image_size,  # all images will be resized to 224x224\n",
    "        batch_size=16,\n",
    "        class_mode='categorical',shuffle = False)"
   ]
  },
  {
   "cell_type": "code",
   "execution_count": 6,
   "metadata": {
    "_uuid": "861b68abf945f747fda3fa42fcacbac5b51344e6"
   },
   "outputs": [],
   "source": [
    "def create_model():\n",
    "    inception = InceptionV3(include_top=False, input_shape=(75, 75, 3))\n",
    "    \n",
    "    model = Sequential()\n",
    "    model.add(inception)\n",
    "    model.add(Flatten())\n",
    "    model.add(Dropout(0.5))\n",
    "    model.add(Dense(256, activation='relu',kernel_regularizer=regularizers.l1_l2(l1=0.001,l2=0.001)))\n",
    "    model.add(Dense(10, activation='softmax'))   \n",
    "    model.summary()\n",
    "    #sgd = SGD(lr=1e-3, decay=1e-6, momentum=0.9, nesterov=True)\n",
    "    rmsprop = RMSprop(lr=0.001, rho=0.9, epsilon=None, decay=0.0)\n",
    "    model.compile(loss='categorical_crossentropy', optimizer=rmsprop, metrics=['acc'])\n",
    "    return model\n",
    "    "
   ]
  },
  {
   "cell_type": "code",
   "execution_count": 8,
   "metadata": {
    "_uuid": "22777c48c8c34f834153a9b700e950ce5c52bd1d",
    "scrolled": false
   },
   "outputs": [
    {
     "name": "stdout",
     "output_type": "stream",
     "text": [
      "Downloading data from https://github.com/fchollet/deep-learning-models/releases/download/v0.5/inception_v3_weights_tf_dim_ordering_tf_kernels_notop.h5\n",
      "87916544/87910968 [==============================] - 1s 0us/step\n",
      "_________________________________________________________________\n",
      "Layer (type)                 Output Shape              Param #   \n",
      "=================================================================\n",
      "inception_v3 (Model)         (None, 1, 1, 2048)        21802784  \n",
      "_________________________________________________________________\n",
      "flatten_1 (Flatten)          (None, 2048)              0         \n",
      "_________________________________________________________________\n",
      "dropout_1 (Dropout)          (None, 2048)              0         \n",
      "_________________________________________________________________\n",
      "dense_1 (Dense)              (None, 256)               524544    \n",
      "_________________________________________________________________\n",
      "dense_2 (Dense)              (None, 10)                2570      \n",
      "=================================================================\n",
      "Total params: 22,329,898\n",
      "Trainable params: 22,295,466\n",
      "Non-trainable params: 34,432\n",
      "_________________________________________________________________\n"
     ]
    }
   ],
   "source": [
    "model = create_model()"
   ]
  },
  {
   "cell_type": "code",
   "execution_count": 9,
   "metadata": {
    "_uuid": "ea2b2481b66679753dae2b7cd943d21eef2ad1f1",
    "scrolled": true
   },
   "outputs": [
    {
     "name": "stdout",
     "output_type": "stream",
     "text": [
      "Epoch 1/100\n",
      "690/690 [==============================] - 174s 252ms/step - loss: 3.6829 - acc: 0.1538 - val_loss: 3.2505 - val_acc: 0.1632\n",
      "Epoch 2/100\n",
      "690/690 [==============================] - 155s 225ms/step - loss: 2.5750 - acc: 0.1837 - val_loss: 2.5155 - val_acc: 0.2313\n",
      "Epoch 3/100\n",
      "690/690 [==============================] - 155s 225ms/step - loss: 2.2915 - acc: 0.3075 - val_loss: 2.8707 - val_acc: 0.2915\n",
      "Epoch 4/100\n",
      "690/690 [==============================] - 155s 224ms/step - loss: 1.8551 - acc: 0.4744 - val_loss: 2.0723 - val_acc: 0.4476\n",
      "Epoch 5/100\n",
      "690/690 [==============================] - 154s 223ms/step - loss: 1.5223 - acc: 0.5971 - val_loss: 1.7978 - val_acc: 0.6228\n",
      "Epoch 6/100\n",
      "690/690 [==============================] - 155s 224ms/step - loss: 1.3259 - acc: 0.6752 - val_loss: 1.2870 - val_acc: 0.6910\n",
      "Epoch 7/100\n",
      "690/690 [==============================] - 154s 224ms/step - loss: 1.1537 - acc: 0.7361 - val_loss: 1.3991 - val_acc: 0.6676\n",
      "Epoch 8/100\n",
      "690/690 [==============================] - 155s 225ms/step - loss: 1.0406 - acc: 0.7775 - val_loss: 1.9965 - val_acc: 0.5137\n",
      "Epoch 9/100\n",
      "690/690 [==============================] - 155s 224ms/step - loss: 0.9735 - acc: 0.8004 - val_loss: 1.1923 - val_acc: 0.7523\n",
      "Epoch 10/100\n",
      "690/690 [==============================] - 155s 225ms/step - loss: 0.9003 - acc: 0.8263 - val_loss: 0.8541 - val_acc: 0.8479\n",
      "Epoch 11/100\n",
      "690/690 [==============================] - 155s 225ms/step - loss: 0.8488 - acc: 0.8540 - val_loss: 0.9487 - val_acc: 0.8048\n",
      "Epoch 12/100\n",
      "690/690 [==============================] - 155s 225ms/step - loss: 0.8177 - acc: 0.8718 - val_loss: 0.9859 - val_acc: 0.8267\n",
      "Epoch 13/100\n",
      "690/690 [==============================] - 157s 227ms/step - loss: 0.7624 - acc: 0.8869 - val_loss: 0.7824 - val_acc: 0.8774\n",
      "Epoch 14/100\n",
      "690/690 [==============================] - 156s 226ms/step - loss: 0.7234 - acc: 0.8932 - val_loss: 1.0435 - val_acc: 0.7848\n",
      "Epoch 15/100\n",
      "690/690 [==============================] - 156s 225ms/step - loss: 0.7023 - acc: 0.9024 - val_loss: 0.8858 - val_acc: 0.8369\n",
      "Epoch 16/100\n",
      "690/690 [==============================] - 157s 228ms/step - loss: 0.6930 - acc: 0.9076 - val_loss: 0.8316 - val_acc: 0.8544\n",
      "Epoch 17/100\n",
      "690/690 [==============================] - 156s 225ms/step - loss: 0.6568 - acc: 0.9119 - val_loss: 0.8257 - val_acc: 0.8643\n",
      "Epoch 18/100\n",
      "690/690 [==============================] - 156s 226ms/step - loss: 0.6460 - acc: 0.9171 - val_loss: 0.7406 - val_acc: 0.8836\n",
      "Epoch 19/100\n",
      "690/690 [==============================] - 156s 225ms/step - loss: 0.6240 - acc: 0.9253 - val_loss: 1.1898 - val_acc: 0.8490\n",
      "Epoch 20/100\n",
      "690/690 [==============================] - 156s 226ms/step - loss: 0.6123 - acc: 0.9262 - val_loss: 1.1730 - val_acc: 0.8409\n",
      "Epoch 21/100\n",
      "690/690 [==============================] - 156s 226ms/step - loss: 0.6145 - acc: 0.9274 - val_loss: 1.1825 - val_acc: 0.8504\n",
      "Epoch 22/100\n",
      "690/690 [==============================] - 156s 226ms/step - loss: 0.5942 - acc: 0.9350 - val_loss: 0.7335 - val_acc: 0.8833\n",
      "Epoch 23/100\n",
      "690/690 [==============================] - 156s 226ms/step - loss: 0.5659 - acc: 0.9372 - val_loss: 0.7319 - val_acc: 0.8771\n",
      "Epoch 24/100\n",
      "690/690 [==============================] - 156s 226ms/step - loss: 0.5645 - acc: 0.9394 - val_loss: 0.7040 - val_acc: 0.8902\n",
      "Epoch 25/100\n",
      "690/690 [==============================] - 155s 225ms/step - loss: 0.5585 - acc: 0.9408 - val_loss: 0.8743 - val_acc: 0.8300\n",
      "Epoch 26/100\n",
      "690/690 [==============================] - 155s 225ms/step - loss: 0.5556 - acc: 0.9415 - val_loss: 0.9125 - val_acc: 0.8544\n",
      "Epoch 27/100\n",
      "690/690 [==============================] - 155s 224ms/step - loss: 0.5325 - acc: 0.9471 - val_loss: 1.0527 - val_acc: 0.8391\n",
      "Epoch 28/100\n",
      "690/690 [==============================] - 155s 225ms/step - loss: 0.5510 - acc: 0.9413 - val_loss: 0.6743 - val_acc: 0.8975\n",
      "Epoch 29/100\n",
      "690/690 [==============================] - 155s 225ms/step - loss: 0.5262 - acc: 0.9454 - val_loss: 0.7028 - val_acc: 0.8964\n",
      "Epoch 30/100\n",
      "690/690 [==============================] - 156s 226ms/step - loss: 0.5423 - acc: 0.9456 - val_loss: 0.7660 - val_acc: 0.8887\n",
      "Epoch 31/100\n",
      "690/690 [==============================] - 156s 227ms/step - loss: 0.5299 - acc: 0.9467 - val_loss: 0.8212 - val_acc: 0.8749\n",
      "Epoch 32/100\n",
      "690/690 [==============================] - 155s 225ms/step - loss: 0.5234 - acc: 0.9494 - val_loss: 0.7015 - val_acc: 0.8993\n",
      "Epoch 33/100\n",
      "690/690 [==============================] - 156s 226ms/step - loss: 0.5195 - acc: 0.9510 - val_loss: 0.6770 - val_acc: 0.9113\n",
      "Epoch 34/100\n",
      "690/690 [==============================] - 156s 226ms/step - loss: 0.5212 - acc: 0.9488 - val_loss: 0.6990 - val_acc: 0.9015\n",
      "Epoch 35/100\n",
      "690/690 [==============================] - 155s 225ms/step - loss: 0.5062 - acc: 0.9532 - val_loss: 0.7568 - val_acc: 0.8803\n",
      "Epoch 36/100\n",
      "690/690 [==============================] - 156s 226ms/step - loss: 0.4870 - acc: 0.9579 - val_loss: 0.6759 - val_acc: 0.8927\n",
      "Epoch 37/100\n",
      "690/690 [==============================] - 155s 225ms/step - loss: 0.4832 - acc: 0.9561 - val_loss: 0.6429 - val_acc: 0.9135\n",
      "Epoch 38/100\n",
      "690/690 [==============================] - 156s 227ms/step - loss: 0.5017 - acc: 0.9556 - val_loss: 0.7852 - val_acc: 0.8843\n",
      "Epoch 39/100\n",
      "690/690 [==============================] - 156s 226ms/step - loss: 0.4863 - acc: 0.9598 - val_loss: 0.8725 - val_acc: 0.9026\n",
      "Epoch 40/100\n",
      "690/690 [==============================] - 156s 226ms/step - loss: 0.4654 - acc: 0.9617 - val_loss: 0.8609 - val_acc: 0.8541\n",
      "Epoch 41/100\n",
      "690/690 [==============================] - 156s 226ms/step - loss: 0.4673 - acc: 0.9590 - val_loss: 0.7780 - val_acc: 0.8822\n",
      "Epoch 42/100\n",
      "690/690 [==============================] - 157s 227ms/step - loss: 0.4757 - acc: 0.9601 - val_loss: 0.6714 - val_acc: 0.9113\n",
      "Epoch 43/100\n",
      "690/690 [==============================] - 157s 227ms/step - loss: 0.4534 - acc: 0.9637 - val_loss: 1.3122 - val_acc: 0.8311\n",
      "Epoch 44/100\n",
      "690/690 [==============================] - 156s 225ms/step - loss: 0.4686 - acc: 0.9623 - val_loss: 1.0526 - val_acc: 0.8661\n",
      "Epoch 45/100\n",
      "690/690 [==============================] - 155s 224ms/step - loss: 0.4735 - acc: 0.9623 - val_loss: 0.7301 - val_acc: 0.9040\n",
      "Epoch 46/100\n",
      "690/690 [==============================] - 155s 225ms/step - loss: 0.4489 - acc: 0.9643 - val_loss: 0.8501 - val_acc: 0.9008\n",
      "Epoch 47/100\n",
      "690/690 [==============================] - 155s 225ms/step - loss: 0.4478 - acc: 0.9644 - val_loss: 1.3100 - val_acc: 0.8657\n",
      "Epoch 48/100\n",
      "690/690 [==============================] - 156s 226ms/step - loss: 0.4515 - acc: 0.9654 - val_loss: 0.8810 - val_acc: 0.8964\n",
      "Epoch 49/100\n",
      "690/690 [==============================] - 155s 225ms/step - loss: 0.4621 - acc: 0.9649 - val_loss: 0.8190 - val_acc: 0.9000\n",
      "Epoch 50/100\n",
      "690/690 [==============================] - 155s 225ms/step - loss: 0.4549 - acc: 0.9670 - val_loss: 0.9897 - val_acc: 0.8843\n",
      "Epoch 51/100\n",
      "690/690 [==============================] - 155s 225ms/step - loss: 0.4406 - acc: 0.9688 - val_loss: 0.8655 - val_acc: 0.8916\n",
      "Epoch 52/100\n",
      "690/690 [==============================] - 157s 227ms/step - loss: 0.4405 - acc: 0.9664 - val_loss: 1.8320 - val_acc: 0.8490\n",
      "Epoch 53/100\n",
      "690/690 [==============================] - 155s 225ms/step - loss: 0.4373 - acc: 0.9671 - val_loss: 0.8943 - val_acc: 0.9015\n",
      "Epoch 54/100\n",
      "690/690 [==============================] - 156s 226ms/step - loss: 0.4358 - acc: 0.9695 - val_loss: 1.0832 - val_acc: 0.8869\n",
      "Epoch 55/100\n",
      "690/690 [==============================] - 156s 225ms/step - loss: 0.4284 - acc: 0.9686 - val_loss: 0.8319 - val_acc: 0.9015\n",
      "Epoch 56/100\n",
      "690/690 [==============================] - 155s 225ms/step - loss: 0.4249 - acc: 0.9699 - val_loss: 1.1809 - val_acc: 0.8698\n",
      "Epoch 57/100\n",
      "690/690 [==============================] - 155s 225ms/step - loss: 0.4303 - acc: 0.9688 - val_loss: 0.6668 - val_acc: 0.9106\n",
      "Epoch 58/100\n",
      "690/690 [==============================] - 156s 226ms/step - loss: 0.4286 - acc: 0.9707 - val_loss: 0.9457 - val_acc: 0.8880\n",
      "Epoch 59/100\n",
      "690/690 [==============================] - 155s 225ms/step - loss: 0.4243 - acc: 0.9707 - val_loss: 1.1720 - val_acc: 0.8800\n",
      "Epoch 60/100\n",
      "690/690 [==============================] - 154s 224ms/step - loss: 0.4266 - acc: 0.9726 - val_loss: 0.6767 - val_acc: 0.9110\n",
      "Epoch 61/100\n",
      "690/690 [==============================] - 154s 224ms/step - loss: 0.4243 - acc: 0.9728 - val_loss: 0.7785 - val_acc: 0.9070\n",
      "Epoch 62/100\n",
      "690/690 [==============================] - 156s 226ms/step - loss: 0.4277 - acc: 0.9717 - val_loss: 1.1547 - val_acc: 0.8825\n",
      "Epoch 63/100\n",
      "690/690 [==============================] - 155s 225ms/step - loss: 0.4313 - acc: 0.9712 - val_loss: 0.7795 - val_acc: 0.9088\n",
      "Epoch 64/100\n",
      "690/690 [==============================] - 155s 225ms/step - loss: 0.4127 - acc: 0.9748 - val_loss: 1.0275 - val_acc: 0.8986\n",
      "Epoch 65/100\n",
      "690/690 [==============================] - 154s 224ms/step - loss: 0.4167 - acc: 0.9737 - val_loss: 1.4330 - val_acc: 0.8486\n",
      "Epoch 66/100\n",
      "690/690 [==============================] - 155s 225ms/step - loss: 0.4210 - acc: 0.9728 - val_loss: 0.9054 - val_acc: 0.8975\n",
      "Epoch 67/100\n",
      "690/690 [==============================] - 155s 224ms/step - loss: 0.4198 - acc: 0.9750 - val_loss: 0.6513 - val_acc: 0.9172\n",
      "Epoch 68/100\n",
      "690/690 [==============================] - 155s 225ms/step - loss: 0.3982 - acc: 0.9757 - val_loss: 0.6386 - val_acc: 0.9161\n",
      "Epoch 69/100\n",
      "690/690 [==============================] - 155s 224ms/step - loss: 0.4058 - acc: 0.9761 - val_loss: 0.6854 - val_acc: 0.9161\n",
      "Epoch 70/100\n",
      "690/690 [==============================] - 155s 225ms/step - loss: 0.4041 - acc: 0.9770 - val_loss: 0.5867 - val_acc: 0.9296\n",
      "Epoch 71/100\n",
      "690/690 [==============================] - 156s 226ms/step - loss: 0.3956 - acc: 0.9774 - val_loss: 0.6817 - val_acc: 0.9110\n",
      "Epoch 72/100\n",
      "690/690 [==============================] - 155s 225ms/step - loss: 0.4047 - acc: 0.9755 - val_loss: 0.7009 - val_acc: 0.9113\n",
      "Epoch 73/100\n",
      "690/690 [==============================] - 155s 225ms/step - loss: 0.3956 - acc: 0.9775 - val_loss: 0.7808 - val_acc: 0.9059\n",
      "Epoch 74/100\n",
      "690/690 [==============================] - 155s 225ms/step - loss: 0.3995 - acc: 0.9785 - val_loss: 0.7129 - val_acc: 0.9172\n",
      "Epoch 75/100\n",
      "690/690 [==============================] - 155s 225ms/step - loss: 0.3935 - acc: 0.9777 - val_loss: 0.8151 - val_acc: 0.9051\n",
      "Epoch 76/100\n",
      "690/690 [==============================] - 155s 225ms/step - loss: 0.3933 - acc: 0.9794 - val_loss: 0.7212 - val_acc: 0.9172\n",
      "Epoch 77/100\n",
      "690/690 [==============================] - 155s 224ms/step - loss: 0.3875 - acc: 0.9791 - val_loss: 1.1319 - val_acc: 0.8843\n",
      "Epoch 78/100\n",
      "690/690 [==============================] - 156s 226ms/step - loss: 0.3957 - acc: 0.9797 - val_loss: 0.8303 - val_acc: 0.9092\n",
      "Epoch 79/100\n",
      "690/690 [==============================] - 155s 224ms/step - loss: 0.3942 - acc: 0.9766 - val_loss: 0.8101 - val_acc: 0.9106\n",
      "Epoch 80/100\n",
      "690/690 [==============================] - 155s 225ms/step - loss: 0.3899 - acc: 0.9795 - val_loss: 0.5892 - val_acc: 0.9274\n",
      "Epoch 81/100\n",
      "690/690 [==============================] - 155s 224ms/step - loss: 0.3867 - acc: 0.9793 - val_loss: 0.8967 - val_acc: 0.9026\n",
      "Epoch 82/100\n",
      "690/690 [==============================] - 154s 223ms/step - loss: 0.3949 - acc: 0.9784 - val_loss: 0.6094 - val_acc: 0.9321\n",
      "Epoch 83/100\n",
      "690/690 [==============================] - 155s 225ms/step - loss: 0.3912 - acc: 0.9792 - val_loss: 0.5243 - val_acc: 0.9347\n",
      "Epoch 84/100\n",
      "690/690 [==============================] - 155s 224ms/step - loss: 0.3872 - acc: 0.9793 - val_loss: 0.5769 - val_acc: 0.9332\n",
      "Epoch 85/100\n",
      "690/690 [==============================] - 156s 226ms/step - loss: 0.3896 - acc: 0.9802 - val_loss: 0.8152 - val_acc: 0.9030\n",
      "Epoch 86/100\n",
      "690/690 [==============================] - 155s 225ms/step - loss: 0.3855 - acc: 0.9802 - val_loss: 0.6577 - val_acc: 0.9128\n",
      "Epoch 87/100\n",
      "690/690 [==============================] - 155s 224ms/step - loss: 0.3963 - acc: 0.9797 - val_loss: 0.6142 - val_acc: 0.9234\n",
      "Epoch 88/100\n",
      "690/690 [==============================] - 156s 226ms/step - loss: 0.3897 - acc: 0.9787 - val_loss: 0.6383 - val_acc: 0.9219\n",
      "Epoch 89/100\n",
      "690/690 [==============================] - 155s 225ms/step - loss: 0.3945 - acc: 0.9797 - val_loss: 0.9900 - val_acc: 0.9004\n",
      "Epoch 90/100\n",
      "690/690 [==============================] - 155s 225ms/step - loss: 0.3759 - acc: 0.9808 - val_loss: 0.6072 - val_acc: 0.9234\n",
      "Epoch 91/100\n",
      "690/690 [==============================] - 158s 229ms/step - loss: 0.3937 - acc: 0.9800 - val_loss: 0.7137 - val_acc: 0.9143\n",
      "Epoch 92/100\n",
      "690/690 [==============================] - 155s 225ms/step - loss: 0.3937 - acc: 0.9805 - val_loss: 1.0319 - val_acc: 0.9019\n",
      "Epoch 93/100\n",
      "690/690 [==============================] - 154s 223ms/step - loss: 0.3969 - acc: 0.9793 - val_loss: 2.3281 - val_acc: 0.8205\n",
      "Epoch 94/100\n",
      "690/690 [==============================] - 156s 226ms/step - loss: 0.3896 - acc: 0.9819 - val_loss: 0.9070 - val_acc: 0.9099\n",
      "Epoch 95/100\n",
      "690/690 [==============================] - 154s 224ms/step - loss: 0.3759 - acc: 0.9827 - val_loss: 0.9506 - val_acc: 0.9019\n",
      "Epoch 96/100\n",
      "690/690 [==============================] - 164s 237ms/step - loss: 0.3800 - acc: 0.9826 - val_loss: 0.8344 - val_acc: 0.9113\n",
      "Epoch 97/100\n",
      "690/690 [==============================] - 155s 224ms/step - loss: 0.3757 - acc: 0.9821 - val_loss: 0.9605 - val_acc: 0.8938\n",
      "Epoch 98/100\n",
      "690/690 [==============================] - 155s 225ms/step - loss: 0.3756 - acc: 0.9814 - val_loss: 0.8411 - val_acc: 0.8946\n",
      "Epoch 99/100\n",
      "690/690 [==============================] - 155s 224ms/step - loss: 0.3715 - acc: 0.9843 - val_loss: 0.9729 - val_acc: 0.8986\n",
      "Epoch 100/100\n",
      "690/690 [==============================] - 156s 225ms/step - loss: 0.3766 - acc: 0.9832 - val_loss: 1.0504 - val_acc: 0.8968\n"
     ]
    }
   ],
   "source": [
    "n_train = 11054\n",
    "batch_size = 16\n",
    "n_valid = 2757\n",
    "history = model.fit_generator(\n",
    "       train_generator,\n",
    "       steps_per_epoch=n_train//batch_size,\n",
    "       epochs=100,\n",
    "       validation_data=validation_generator,\n",
    "       validation_steps=n_valid//batch_size)"
   ]
  },
  {
   "cell_type": "code",
   "execution_count": 10,
   "metadata": {
    "_uuid": "a432d01ab1508ce384b2bbf33eef69c47aedaaef"
   },
   "outputs": [
    {
     "data": {
      "image/png": "[encoded data removed]",
      "text/plain": [
       "<Figure size 432x288 with 1 Axes>"
      ]
     },
     "metadata": {
      "needs_background": "light"
     },
     "output_type": "display_data"
    },
    {
     "data": {
      "image/png": "[encoded data removed]",
      "text/plain": [
       "<Figure size 432x288 with 1 Axes>"
      ]
     },
     "metadata": {
      "needs_background": "light"
     },
     "output_type": "display_data"
    }
   ],
   "source": [
    "acc = history.history['acc']\n",
    "val_acc = history.history['val_acc']\n",
    "loss = history.history['loss']\n",
    "val_loss = history.history['val_loss']\n",
    "epochs = range(1, len(acc) + 1)\n",
    "plt.plot(epochs, acc, 'bo', label='Training acc')\n",
    "plt.plot(epochs, val_acc, 'b', label='Validation acc')\n",
    "plt.title('Training and validation accuracy')\n",
    "plt.legend(loc='best')\n",
    "\n",
    "plt.figure()\n",
    "plt.plot(epochs, loss, 'bo', label='Training loss')\n",
    "plt.plot(epochs, val_loss, 'b', label='Validation loss')\n",
    "plt.title('Training and validation loss')\n",
    "plt.legend(loc='best');"
   ]
  },
  {
   "cell_type": "code",
   "execution_count": 11,
   "metadata": {
    "_uuid": "73f30bc9621698e4d5c4419fa4634c14f8f8d7b4"
   },
   "outputs": [],
   "source": [
    "n_test = 456\n",
    "Y_pred = model.predict_generator(test_generator, n_test//16+1)\n",
    "y_pred = np.argmax(Y_pred, axis=1)\n",
    "#print(y_pred)\n"
   ]
  },
  {
   "cell_type": "code",
   "execution_count": 22,
   "metadata": {
    "_uuid": "2039b8cffcd479e85c7fdfe59aaf31665cb5789a"
   },
   "outputs": [
    {
     "name": "stdout",
     "output_type": "stream",
     "text": [
      "Confusion Matrix\n"
     ]
    }
   ],
   "source": [
    "print('Confusion Matrix')\n",
    "cm = confusion_matrix(test_generator.classes, y_pred)"
   ]
  },
  {
   "cell_type": "code",
   "execution_count": 23,
   "metadata": {
    "_uuid": "3ba391f9bd677e59d13c00fd4c7d134afe1970a3"
   },
   "outputs": [],
   "source": [
    "def plot_confusion_matrix(cm, classes,\n",
    "                          normalize=False,\n",
    "                          title='Confusion matrix',\n",
    "                          cmap=plt.cm.Blues):\n",
    "    \"\"\"\n",
    "    This function prints and plots the confusion matrix.\n",
    "    Normalization can be applied by setting `normalize=True`.\n",
    "    \"\"\"\n",
    "    if normalize:\n",
    "        cm = cm.astype('float') / cm.sum(axis=1)[:, np.newaxis]\n",
    "        print(\"Normalized confusion matrix\")\n",
    "    else:\n",
    "        print('Confusion matrix, without normalization')\n",
    "\n",
    "    print(cm)\n",
    "    plt.figure(figsize=(8, 8))\n",
    "    plt.imshow(cm, interpolation='nearest', cmap=cmap)\n",
    "    plt.title(title)\n",
    "    plt.colorbar()\n",
    "    tick_marks = np.arange(len(classes))\n",
    "    plt.xticks(tick_marks, classes, rotation=45)\n",
    "    plt.yticks(tick_marks, classes)\n",
    "\n",
    "    fmt = '.2f' if normalize else 'd'\n",
    "    thresh = cm.max() / 2.\n",
    "    for i, j in itertools.product(range(cm.shape[0]), range(cm.shape[1])):\n",
    "        plt.text(j, i, format(cm[i, j], fmt),\n",
    "                 horizontalalignment=\"center\",\n",
    "                 color=\"white\" if cm[i, j] > thresh else \"black\")\n",
    "\n",
    "    plt.ylabel('Classe Real')\n",
    "    plt.xlabel('Classe Predita')\n",
    "    plt.tight_layout()"
   ]
  },
  {
   "cell_type": "code",
   "execution_count": 24,
   "metadata": {
    "_uuid": "c200bad4825972244d10de3435860ceb622b1f04"
   },
   "outputs": [
    {
     "name": "stdout",
     "output_type": "stream",
     "text": [
      "Confusion matrix, without normalization\n",
      "[[45  2  1  0  1  0  0  0  1  0]\n",
      " [ 0 36  0  0  0  0  0  0  0  0]\n",
      " [ 0  0 49  0  0  0  0  0  1  0]\n",
      " [ 0  0  0 42  0  0  0  0  0  0]\n",
      " [ 0  0  0  0 44  0  0  0  1  0]\n",
      " [ 0  0  0  0  0 49  0  0  1  0]\n",
      " [ 0 13  0  0  0  0 36  0  0  0]\n",
      " [ 0  0  0  0  0  0  0 42  1  1]\n",
      " [ 0  0  0  0  0  0  0  0 46  0]\n",
      " [ 0  0  0  0  0  0  0  0  2 42]]\n"
     ]
    },
    {
     "data": {
      "image/png": "[encoded data removed]",
      "text/plain": [
       "<Figure size 576x576 with 2 Axes>"
      ]
     },
     "metadata": {
      "needs_background": "light"
     },
     "output_type": "display_data"
    }
   ],
   "source": [
    "nomes_classes=['homer_simpson', 'ned_flanders', 'moe_szyslak', 'lisa_simpson','bart_simpson',\n",
    "         'marge_simpson', 'krusty_the_clown', 'principal_skinner', 'charles_montgomery_burns', 'milhouse_van_houten']\n",
    "plot_confusion_matrix(cm, classes=nomes_classes,\n",
    "                      title='Matriz de Confusão')"
   ]
  },
  {
   "cell_type": "code",
   "execution_count": 25,
   "metadata": {
    "_uuid": "b26333e181739410dab0f7e5a72adaa3239def63"
   },
   "outputs": [
    {
     "name": "stdout",
     "output_type": "stream",
     "text": [
      "                          precision    recall  f1-score   support\n",
      "\n",
      "           homer_simpson       1.00      0.90      0.95        50\n",
      "            ned_flanders       0.71      1.00      0.83        36\n",
      "             moe_szyslak       0.98      0.98      0.98        50\n",
      "            lisa_simpson       1.00      1.00      1.00        42\n",
      "            bart_simpson       0.98      0.98      0.98        45\n",
      "           marge_simpson       1.00      0.98      0.99        50\n",
      "        krusty_the_clown       1.00      0.73      0.85        49\n",
      "       principal_skinner       1.00      0.95      0.98        44\n",
      "charles_montgomery_burns       0.87      1.00      0.93        46\n",
      "     milhouse_van_houten       0.98      0.95      0.97        44\n",
      "\n",
      "             avg / total       0.96      0.95      0.95       456\n",
      "\n"
     ]
    }
   ],
   "source": [
    "target_names=['homer_simpson', 'ned_flanders', 'moe_szyslak', 'lisa_simpson', \n",
    "                 'bart_simpson', 'marge_simpson', 'krusty_the_clown', \n",
    "                 'principal_skinner', 'charles_montgomery_burns', 'milhouse_van_houten']\n",
    "print (classification_report (test_generator.classes, y_pred, target_names = target_names))"
   ]
  },
  {
   "cell_type": "code",
   "execution_count": null,
   "metadata": {
    "_uuid": "ed0c5d1663ddc5067221f166509a3a6bd859de17"
   },
   "outputs": [],
   "source": []
  }
 ],
 "metadata": {
  "kernelspec": {
   "display_name": "Python 2",
   "language": "python",
   "name": "python2"
  },
  "language_info": {
   "codemirror_mode": {
    "name": "ipython",
    "version": 2
   },
   "file_extension": ".py",
   "mimetype": "text/x-python",
   "name": "python",
   "nbconvert_exporter": "python",
   "pygments_lexer": "ipython2",
   "version": "2.7.15rc1"
  }
 },
 "nbformat": 4,
 "nbformat_minor": 1
}
